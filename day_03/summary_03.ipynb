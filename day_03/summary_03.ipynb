{
 "cells": [
  {
   "cell_type": "markdown",
   "id": "08162c74-c986-43b2-9261-78e0c2519ae6",
   "metadata": {},
   "source": [
    "# Summary\n",
    "\n",
    "## Problem 1\n",
    "Get gamma rate, epsilon rate, and power consumption (https://adventofcode.com/2021/day/3)"
   ]
  },
  {
   "cell_type": "code",
   "execution_count": 3,
   "id": "648be30c-cd3b-41a2-b6ab-2e7bc9367635",
   "metadata": {},
   "outputs": [],
   "source": [
    "def power_consumption(report_input):\n",
    "    with open(report_input,'r') as input_text:\n",
    "        report = input_text.read()\n",
    "    report_list = report.splitlines()\n",
    "    value_size = len(report_list[0])\n",
    "    example_length = len(report_list)\n",
    "    gamma = []\n",
    "    gamma_dec = 0\n",
    "    epsilon = []\n",
    "    epsilon_dec = 0\n",
    "    for j in range (0,value_size):\n",
    "        x = 0\n",
    "        for i in range (0,example_length):\n",
    "            x = x + int(report_list[i][j])\n",
    "            # print(x)\n",
    "        if x < example_length/2:\n",
    "            epsilon.append(1)\n",
    "            gamma.append(0)\n",
    "        else:\n",
    "            epsilon.append(0)\n",
    "            gamma.append(1)\n",
    "        gamma_dec = gamma_dec + gamma[j]*pow(2,value_size-(j+1))\n",
    "        epsilon_dec = epsilon_dec + epsilon[j]*pow(2,value_size-(j+1))\n",
    "    print(\"gamma = \", gamma, \",\\nepsilon = \", epsilon)\n",
    "    print(\"gamma_dec = \", gamma_dec)\n",
    "    print(\"epsilon_dec = \", epsilon_dec)\n",
    "    answer = gamma_dec * epsilon_dec\n",
    "    return(answer)"
   ]
  },
  {
   "cell_type": "code",
   "execution_count": 4,
   "id": "e32041ea-839c-4a81-8665-e027a8a48e85",
   "metadata": {},
   "outputs": [
    {
     "name": "stdout",
     "output_type": "stream",
     "text": [
      "gamma =  [1, 0, 0, 1, 0, 0, 1, 0, 1, 0, 1, 0] ,\n",
      "epsilon =  [0, 1, 1, 0, 1, 1, 0, 1, 0, 1, 0, 1]\n",
      "gamma_dec =  2346\n",
      "epsilon_dec =  1749\n"
     ]
    },
    {
     "data": {
      "text/plain": [
       "4103154"
      ]
     },
     "execution_count": 4,
     "metadata": {},
     "output_type": "execute_result"
    }
   ],
   "source": [
    "power_consumption(\"report.txt\")"
   ]
  },
  {
   "cell_type": "markdown",
   "id": "a8ab192e-5117-4623-9573-7594e190bab1",
   "metadata": {},
   "source": [
    "## Problem 2\n",
    "\n",
    "Get oxygen generator rating, CO2 scrubber rating, and life support rating of the submarine (https://adventofcode.com/2021/day/3)"
   ]
  },
  {
   "cell_type": "code",
   "execution_count": 5,
   "id": "f092c65b-9b79-4eb8-8ee9-1485dd6098a0",
   "metadata": {},
   "outputs": [],
   "source": [
    "def find_rating(report_input, mode):\n",
    "    with open(report_input,'r') as input_text:\n",
    "        report = input_text.read()\n",
    "    report_list = report.splitlines()\n",
    "    # separate a list of original data and a list that changes in the course of finding process\n",
    "    item_list = report_list\n",
    "    value_size = len(report_list[0])\n",
    "    example_length = len(report_list)\n",
    "    # separate the lenth of original data and that of a list that changes in the course of finding process\n",
    "    total_items = example_length\n",
    "    binary_value = []\n",
    "    rating = 0\n",
    "    # as \"value_size\" is anyways the max of the repetition, probably it is OK to use it rather than using while?\n",
    "    for j in range (0, value_size):\n",
    "        x = 0\n",
    "        for i in range (0,total_items):\n",
    "            # to show the value of j-th position of an i-th element in a list is element[i][j]\n",
    "            x = x + int(item_list[i][j])\n",
    "        # which is the most, either 1 or 0?\n",
    "        if mode == \"co2\":\n",
    "            if x >= total_items/2:\n",
    "                binary_value.append(0)\n",
    "            else:\n",
    "                binary_value.append(1)\n",
    "        else:\n",
    "            if x >= total_items/2:\n",
    "                binary_value.append(1)\n",
    "            else:\n",
    "                binary_value.append(0)            \n",
    "        candidates = [item for item in item_list if int(item[j]) == binary_value[j]]\n",
    "        item_list = candidates\n",
    "        total_items = len(item_list)\n",
    "        if len(item_list) == 1:\n",
    "            print(item_list) \n",
    "            break\n",
    "    for j in range (0, value_size):\n",
    "        rating = rating + int(item_list[0][j])*pow(2,value_size-(j+1))\n",
    "    if mode == \"co2\":\n",
    "        print(\"co2_rating is \", rating)\n",
    "    else:\n",
    "        print(\"oxgen_rating is \", rating)\n",
    "    return(rating)"
   ]
  },
  {
   "cell_type": "code",
   "execution_count": 6,
   "id": "86f4cbff-da63-40e3-a8f8-4245548d0a99",
   "metadata": {},
   "outputs": [
    {
     "name": "stdout",
     "output_type": "stream",
     "text": [
      "['110101000111']\n",
      "oxgen_rating is  3399\n",
      "['010011100001']\n",
      "co2_rating is  1249\n",
      "4245351\n"
     ]
    }
   ],
   "source": [
    "life_support_rating = find_rating(\"report.txt\",\"oxgen\")*find_rating(\"report.txt\",\"co2\")\n",
    "print(life_support_rating)"
   ]
  }
 ],
 "metadata": {
  "kernelspec": {
   "display_name": "Python 3 (ipykernel)",
   "language": "python",
   "name": "python3"
  },
  "language_info": {
   "codemirror_mode": {
    "name": "ipython",
    "version": 3
   },
   "file_extension": ".py",
   "mimetype": "text/x-python",
   "name": "python",
   "nbconvert_exporter": "python",
   "pygments_lexer": "ipython3",
   "version": "3.9.6"
  }
 },
 "nbformat": 4,
 "nbformat_minor": 5
}
