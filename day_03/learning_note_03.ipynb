{
 "cells": [
  {
   "cell_type": "markdown",
   "id": "75c24db8-5380-46ec-9168-4982bb03df2a",
   "metadata": {},
   "source": [
    "# Day 03\n",
    "\n",
    "## Problem 1\n",
    "A report gives many binary numbers. We need gamma rate and epsilon rate. \n",
    "Gamma rate: For each position, the value (either 1 or 0 ) which appears most among the given report will be set. \n",
    "Epsilon rate: the opposite of the Gamma.\n",
    "Submit the multiplication of the decimal values of each.\n",
    "\n",
    "## Example\n",
    "\n",
    "```\n",
    "00100\n",
    "11110\n",
    "10110\n",
    "10111\n",
    "10101\n",
    "01111\n",
    "00111\n",
    "11100\n",
    "10000\n",
    "11001\n",
    "00010\n",
    "01010\n",
    "```\n",
    "This gives;\n",
    "gamma = 10110, or 22 in decimal\n",
    "epsilon = 01001, or 9 in decimal\n",
    "Thus the answer is 22 * 9 = 198.\n",
    "\n",
    "## Approach\n",
    "\n",
    "To get a gamma rate, if the total number of \"1\" for each position is more than half of the total binary numbers given in the report, then the value for that position is to be 1. Otherwise 0.\n",
    "Epsilon rate is then the opposite.\n"
   ]
  },
  {
   "cell_type": "code",
   "execution_count": 12,
   "id": "fcffa210-1761-43ae-bc97-81c036f70e57",
   "metadata": {},
   "outputs": [
    {
     "name": "stdout",
     "output_type": "stream",
     "text": [
      "0 <class 'str'>\n"
     ]
    },
    {
     "data": {
      "text/plain": [
       "0"
      ]
     },
     "execution_count": 12,
     "metadata": {},
     "output_type": "execute_result"
    }
   ],
   "source": [
    "# make sure how to get the first number as integer\n",
    "example = \"00100\"\n",
    "print(example[0],type(example[0]))\n",
    "int(example[0])"
   ]
  },
  {
   "cell_type": "code",
   "execution_count": 13,
   "id": "87f1e608-2888-41c3-ba3a-5255f06d524b",
   "metadata": {},
   "outputs": [
    {
     "name": "stdout",
     "output_type": "stream",
     "text": [
      "['00100', '11110', '10110', '10111', '10101', '01111', '00111', '11100', '10000', '11001', '00010', '01010']\n"
     ]
    }
   ],
   "source": [
    "with open('example.txt','r') as input_text:\n",
    "    report = input_text.read()\n",
    "report_list = report.splitlines()\n",
    "print(report_list)"
   ]
  },
  {
   "cell_type": "code",
   "execution_count": 15,
   "id": "c9fe7bcd-e527-4242-9240-f373fcb3bc6a",
   "metadata": {},
   "outputs": [
    {
     "name": "stdout",
     "output_type": "stream",
     "text": [
      "5\n"
     ]
    }
   ],
   "source": [
    "# how many bits(?) does each binary value have?\n",
    "value_size = len(report_list[0])\n",
    "print(value_size)"
   ]
  },
  {
   "cell_type": "code",
   "execution_count": 17,
   "id": "71a3f25f-3a56-4c27-887e-86674d55af52",
   "metadata": {},
   "outputs": [
    {
     "name": "stdout",
     "output_type": "stream",
     "text": [
      "12\n"
     ]
    }
   ],
   "source": [
    "# how many binary values does the example have?\n",
    "example_length = len(report_list)\n",
    "print(example_length)"
   ]
  },
  {
   "cell_type": "code",
   "execution_count": 28,
   "id": "1d68548d-cadf-47ce-b683-6b1b5137a561",
   "metadata": {},
   "outputs": [
    {
     "name": "stdout",
     "output_type": "stream",
     "text": [
      "1\n"
     ]
    }
   ],
   "source": [
    "# how to get the first number of the second item in the list?\n",
    "print(report_list[1][0])"
   ]
  },
  {
   "cell_type": "code",
   "execution_count": 29,
   "id": "c35e1398-6ba4-45b2-9818-c22c91ae62fd",
   "metadata": {},
   "outputs": [
    {
     "name": "stdout",
     "output_type": "stream",
     "text": [
      "7\n",
      "[1]\n"
     ]
    }
   ],
   "source": [
    "# prepare an empty list to store the result binary value (1 or 0) for each position\n",
    "gamma = []\n",
    "x = 0\n",
    "for i in range (0,example_length):\n",
    "    # to show the value of j-th position of an i-th item in a list is item[i][j]\n",
    "    x = x + int(report_list[i][0])\n",
    "print(x)\n",
    "if x > example_length/2:\n",
    "    gamma.append(1)\n",
    "else:\n",
    "    gamma.append(0)\n",
    "print(gamma)"
   ]
  },
  {
   "cell_type": "code",
   "execution_count": 86,
   "id": "2b167671-e7a0-4f5e-9c85-19bed1b83f3a",
   "metadata": {},
   "outputs": [
    {
     "name": "stdout",
     "output_type": "stream",
     "text": [
      "[1, 0, 1, 1, 0]\n"
     ]
    }
   ],
   "source": [
    "gamma = []\n",
    "# prepare a variable of gamma in binary\n",
    "gamma_dec = 0\n",
    "for j in range (0,value_size):\n",
    "    x = 0\n",
    "    for i in range (0,example_length):\n",
    "        x = x + int(report_list[i][j])\n",
    "        # print(x)\n",
    "    if x > example_length/2:\n",
    "        gamma.append(1)\n",
    "    else:\n",
    "        gamma.append(0)\n",
    "print(gamma)"
   ]
  },
  {
   "cell_type": "code",
   "execution_count": 87,
   "id": "d0c6bd5c-6615-431c-9b99-55c247f6c1b1",
   "metadata": {},
   "outputs": [
    {
     "name": "stdout",
     "output_type": "stream",
     "text": [
      "22\n"
     ]
    }
   ],
   "source": [
    "# try the conversion of binary value to decimal.\n",
    "# there should be a better way though..\n",
    "gamma_dec = 1 * pow(2,4) + 0 * pow(2,3) + 1 * pow(2,2) + 1 * pow(2,1) + 0 * pow(2,0)\n",
    "print(gamma_dec)"
   ]
  },
  {
   "cell_type": "code",
   "execution_count": 35,
   "id": "7d4ec414-d3cf-4adb-9962-67392dd88c92",
   "metadata": {},
   "outputs": [
    {
     "name": "stdout",
     "output_type": "stream",
     "text": [
      "[0, 1, 0, 0, 1]\n",
      "9\n"
     ]
    }
   ],
   "source": [
    "epsilon = []\n",
    "epsilon_dec = 0\n",
    "for j in range (0,value_size):\n",
    "    x = 0\n",
    "    for i in range (0,example_length):\n",
    "        x = x + int(report_list[i][j])\n",
    "        # print(x)\n",
    "    if x < example_length/2:\n",
    "        epsilon.append(1)\n",
    "    else:\n",
    "        epsilon.append(0)\n",
    "    epsilon_dec = epsilon_dec + epsilon[j]*pow(2,value_size-(j+1))\n",
    "print(epsilon)\n",
    "print(epsilon_dec)"
   ]
  },
  {
   "cell_type": "code",
   "execution_count": 40,
   "id": "c7472c24-1af9-4081-9edf-47dd28937824",
   "metadata": {},
   "outputs": [
    {
     "name": "stdout",
     "output_type": "stream",
     "text": [
      "gamma =  [1, 0, 1, 1, 0] , epsilon =  [0, 1, 0, 0, 1]\n",
      "gamma_dec =  22\n",
      "epsilon_dec =  9\n",
      "198\n"
     ]
    }
   ],
   "source": [
    "# try getting both gamma and epsilon at the same time, and get the multiplication of them in decimal in the end.\n",
    "gamma = []\n",
    "gamma_dec = 0\n",
    "epsilon = []\n",
    "epsilon_dec = 0\n",
    "for j in range (0,value_size):\n",
    "    x = 0\n",
    "    for i in range (0,example_length):\n",
    "        x = x + int(report_list[i][j])\n",
    "        # print(x)\n",
    "    if x < example_length/2:\n",
    "        epsilon.append(1)\n",
    "        gamma.append(0)\n",
    "    else:\n",
    "        epsilon.append(0)\n",
    "        gamma.append(1)\n",
    "    gamma_dec = gamma_dec + gamma[j]*pow(2,value_size-(j+1))\n",
    "    epsilon_dec = epsilon_dec + epsilon[j]*pow(2,value_size-(j+1))\n",
    "print(\"gamma = \", gamma, \", epsilon = \", epsilon)\n",
    "print(\"gamma_dec = \", gamma_dec)\n",
    "print(\"epsilon_dec = \", epsilon_dec)\n",
    "answer = gamma_dec * epsilon_dec\n",
    "print(answer)"
   ]
  },
  {
   "cell_type": "code",
   "execution_count": 88,
   "id": "af6664a1-cad8-491b-91bb-bba8dd1042af",
   "metadata": {},
   "outputs": [],
   "source": [
    "# make a function to calculate power consumption\n",
    "def power_consumption(report_input):\n",
    "    with open(report_input,'r') as input_text:\n",
    "        report = input_text.read()\n",
    "    report_list = report.splitlines()\n",
    "    value_size = len(report_list[0])\n",
    "    example_length = len(report_list)\n",
    "    gamma = []\n",
    "    gamma_dec = 0\n",
    "    epsilon = []\n",
    "    epsilon_dec = 0\n",
    "    for j in range (0,value_size):\n",
    "        x = 0\n",
    "        for i in range (0,example_length):\n",
    "            x = x + int(report_list[i][j])\n",
    "            # print(x)\n",
    "        if x < example_length/2:\n",
    "            epsilon.append(1)\n",
    "            gamma.append(0)\n",
    "        else:\n",
    "            epsilon.append(0)\n",
    "            gamma.append(1)\n",
    "        gamma_dec = gamma_dec + gamma[j]*pow(2,value_size-(j+1))\n",
    "        epsilon_dec = epsilon_dec + epsilon[j]*pow(2,value_size-(j+1))\n",
    "    print(\"gamma = \", gamma, \"\\n, epsilon = \", epsilon)\n",
    "    print(\"gamma_dec = \", gamma_dec)\n",
    "    print(\"epsilon_dec = \", epsilon_dec)\n",
    "    answer = gamma_dec * epsilon_dec\n",
    "    return(answer)"
   ]
  },
  {
   "cell_type": "code",
   "execution_count": 49,
   "id": "c7da01e5-428c-429c-b557-8343a76e68c9",
   "metadata": {},
   "outputs": [
    {
     "name": "stdout",
     "output_type": "stream",
     "text": [
      "gamma =  [1, 0, 1, 1, 0] \n",
      ", epsilon =  [0, 1, 0, 0, 1]\n",
      "gamma_dec =  22\n",
      "epsilon_dec =  9\n"
     ]
    },
    {
     "data": {
      "text/plain": [
       "198"
      ]
     },
     "execution_count": 49,
     "metadata": {},
     "output_type": "execute_result"
    }
   ],
   "source": [
    "power_consumption(\"example.txt\")"
   ]
  },
  {
   "cell_type": "code",
   "execution_count": 50,
   "id": "595b28b8-7e0d-43f8-8bb4-227fe17c4da8",
   "metadata": {},
   "outputs": [
    {
     "name": "stdout",
     "output_type": "stream",
     "text": [
      "gamma =  [1, 0, 0, 1, 0, 0, 1, 0, 1, 0, 1, 0] \n",
      ", epsilon =  [0, 1, 1, 0, 1, 1, 0, 1, 0, 1, 0, 1]\n",
      "gamma_dec =  2346\n",
      "epsilon_dec =  1749\n"
     ]
    },
    {
     "data": {
      "text/plain": [
       "4103154"
      ]
     },
     "execution_count": 50,
     "metadata": {},
     "output_type": "execute_result"
    }
   ],
   "source": [
    "power_consumption(\"report.txt\")"
   ]
  },
  {
   "cell_type": "markdown",
   "id": "01cc58a1-ca1e-4cbe-a403-ad02542961b3",
   "metadata": {},
   "source": [
    "## Problem 2\n",
    "\n",
    "We should verify the life support rating, which can be determined by multiplying the oxygen generator rating by the CO2 scrubber rating.\n",
    "\n",
    "Oxygen generator rating can be obtained in the following manner:\n",
    "\n",
    "1. compare the count of 1 and 0 of the first bit of each binary value item.\n",
    "2. items that has the same value to the one that got the most count, or in case if the counts for 0 and 1 are same then the one with 1 in the first bit, will remain.\n",
    "3. repeat 1 and 2 for the next bit until only 1 item remains.\n",
    "4. the remaining item in the end in decimal value is the oxygen genrator rating\n",
    "\n",
    "CO2 scrubber rating can be obtained in the opposite manner to the oxygen generator rating:\n",
    "\n",
    "1. compare the count of 1 and 0 of the first bit of each binary value item.\n",
    "2. items that has the same value to the one that got the fewest count, or in case if the counts for 0 and 1 are same then the one with 0 in the first bit, will remain.\n",
    "3. repeat 1 and 2 for the next bit until only 1 item remains.\n",
    "4. the remaining item in the end in decimal value is the CO2 scrubber rating\n",
    "\n",
    "## Example\n",
    "\n",
    "The same example gives the oxygen generator rating as 10111, or 23 in decimal, and the CO2 scrubber rating as 01010, or 10 in decimal. Therefore, the life support rating is 23 * 10 = 230\n",
    "\n",
    "### Step 1 and 2\n",
    "\n",
    "Try with only the first round (the first position) to see how step 1 and 2 could be done."
   ]
  },
  {
   "cell_type": "code",
   "execution_count": 90,
   "id": "c8dbc4cc-3c46-4dbb-87e7-bd492bf7172b",
   "metadata": {},
   "outputs": [
    {
     "name": "stdout",
     "output_type": "stream",
     "text": [
      "['11110', '10110', '10111', '10101', '11100', '10000', '11001']\n"
     ]
    }
   ],
   "source": [
    "with open('example.txt','r') as input_text:\n",
    "    report = input_text.read()\n",
    "report_list = report.splitlines()\n",
    "example_length = len(report_list)\n",
    "x = 0\n",
    "binary_value = []\n",
    "for i in range (0,example_length):\n",
    "    # to show the value of j-th position of an i-th element in a list is element[i][j]\n",
    "    x = x + int(report_list[i][0])\n",
    "    # make sure if the x is correct after the for loop is done.\n",
    "    # print(\"x = \", x)\n",
    "# which is the most, either 1 or 0?\n",
    "if x > example_length/2:\n",
    "    binary_value.append(1)\n",
    "else:\n",
    "    binary_value.append(0)\n",
    "# make sure if the final result is correct\n",
    "# print(binary_value[0])\n",
    "# ---\n",
    "# check the type of the binary_value[0] \n",
    "# as the for loop with if inside the list below (oxgen_candidates) did not go well first.\n",
    "# (of course) as the items in the report_list was not converted to int, it remains as str. \n",
    "# so it needs to be converted to int.\n",
    "# ---\n",
    "# print(\"type of binary_value = \", type(binary_value[0]))\n",
    "# print(type(report_list[0][0]))\n",
    "oxgen_candidates = [oxgen_item for oxgen_item in report_list if int(oxgen_item[0]) == binary_value[0]]\n",
    "print(oxgen_candidates)"
   ]
  },
  {
   "cell_type": "markdown",
   "id": "359ff4b0-d689-4d73-bb80-d1f5351ddeb1",
   "metadata": {},
   "source": [
    "### Step 3 and 4\n",
    "\n",
    "First try with oxgen generator rating. "
   ]
  },
  {
   "cell_type": "code",
   "execution_count": 91,
   "id": "5c4d4731-a109-4eaa-bc1f-fb450e7226c5",
   "metadata": {},
   "outputs": [
    {
     "name": "stdout",
     "output_type": "stream",
     "text": [
      "['10111']\n",
      "oxgen_rating is  23\n"
     ]
    }
   ],
   "source": [
    "with open('example.txt','r') as input_text:\n",
    "    report = input_text.read()\n",
    "report_list = report.splitlines()\n",
    "# separate a list of original data and a list that changes in the course of finding process\n",
    "item_list = report_list\n",
    "value_size = len(report_list[0])\n",
    "example_length = len(report_list)\n",
    "# separate the lenth of original data and that of a list that changes in the course of finding process\n",
    "total_items = example_length\n",
    "binary_value = []\n",
    "oxgen_rating = 0\n",
    "# as \"value_size\" is anyways the max of the repetition, probably it is OK to use it rather than using while?\n",
    "for j in range (0, value_size):\n",
    "    x = 0\n",
    "    for i in range (0,total_items):\n",
    "        # to show the value of j-th position of an i-th element in a list is element[i][j]\n",
    "        x = x + int(item_list[i][j])\n",
    "    # which is the most, either 1 or 0?\n",
    "    if x >= total_items/2:\n",
    "        binary_value.append(1)\n",
    "    else:\n",
    "        binary_value.append(0)\n",
    "    oxgen_candidates = [oxgen_item for oxgen_item in item_list if int(oxgen_item[j]) == binary_value[j]]\n",
    "    item_list = oxgen_candidates\n",
    "    total_items = len(item_list)\n",
    "    if len(item_list) == 1:\n",
    "        print(item_list) \n",
    "        break\n",
    "for j in range (0, value_size):\n",
    "    oxgen_rating = oxgen_rating + int(item_list[0][j])*pow(2,value_size-(j+1))\n",
    "print(\"oxgen_rating is \", oxgen_rating)"
   ]
  },
  {
   "cell_type": "code",
   "execution_count": 92,
   "id": "082d0575-2243-4f67-9b9d-e86310d59f08",
   "metadata": {},
   "outputs": [
    {
     "name": "stdout",
     "output_type": "stream",
     "text": [
      "['01010']\n",
      "co2_rating is  10\n"
     ]
    }
   ],
   "source": [
    "with open('example.txt','r') as input_text:\n",
    "    report = input_text.read()\n",
    "report_list = report.splitlines()\n",
    "# separate a list of original data and a list that changes in the course of finding process\n",
    "item_list = report_list\n",
    "value_size = len(report_list[0])\n",
    "example_length = len(report_list)\n",
    "# separate the lenth of original data and that of a list that changes in the course of finding process\n",
    "total_items = example_length\n",
    "binary_value = []\n",
    "co2_rating = 0\n",
    "# as \"value_size\" is anyways the max of the repetition, probably it is OK to use it rather than using while?\n",
    "for j in range (0, value_size):\n",
    "    x = 0\n",
    "    for i in range (0,total_items):\n",
    "        # to show the value of j-th position of an i-th element in a list is element[i][j]\n",
    "        x = x + int(item_list[i][j])\n",
    "    # which is the most, either 1 or 0?\n",
    "    if x >= total_items/2:\n",
    "        binary_value.append(0)\n",
    "    else:\n",
    "        binary_value.append(1)\n",
    "    co2_candidates = [co2_item for co2_item in item_list if int(co2_item[j]) == binary_value[j]]\n",
    "    item_list = co2_candidates\n",
    "    total_items = len(item_list)\n",
    "    if len(item_list) == 1:\n",
    "        print(item_list) \n",
    "        break\n",
    "for j in range (0, value_size):\n",
    "    co2_rating = co2_rating + int(item_list[0][j])*pow(2,value_size-(j+1))\n",
    "print(\"co2_rating is \", co2_rating)"
   ]
  },
  {
   "cell_type": "markdown",
   "id": "6af3bc89-049a-4c24-9cf3-416e6e33fad2",
   "metadata": {},
   "source": [
    "### Making this into functions with arguments of 1. input file, 2. type of rating"
   ]
  },
  {
   "cell_type": "code",
   "execution_count": 81,
   "id": "2c180575-b304-465e-864b-aceebeab6209",
   "metadata": {},
   "outputs": [],
   "source": [
    "def find_rating(report_input, mode):\n",
    "    with open(report_input,'r') as input_text:\n",
    "        report = input_text.read()\n",
    "    report_list = report.splitlines()\n",
    "    # separate a list of original data and a list that changes in the course of finding process\n",
    "    item_list = report_list\n",
    "    value_size = len(report_list[0])\n",
    "    example_length = len(report_list)\n",
    "    # separate the lenth of original data and that of a list that changes in the course of finding process\n",
    "    total_items = example_length\n",
    "    binary_value = []\n",
    "    rating = 0\n",
    "    # as \"value_size\" is anyways the max of the repetition, probably it is OK to use it rather than using while?\n",
    "    for j in range (0, value_size):\n",
    "        x = 0\n",
    "        for i in range (0,total_items):\n",
    "            # to show the value of j-th position of an i-th element in a list is element[i][j]\n",
    "            x = x + int(item_list[i][j])\n",
    "        # which is the most, either 1 or 0?\n",
    "        if mode == \"co2\":\n",
    "            if x >= total_items/2:\n",
    "                binary_value.append(0)\n",
    "            else:\n",
    "                binary_value.append(1)\n",
    "        else:\n",
    "            if x >= total_items/2:\n",
    "                binary_value.append(1)\n",
    "            else:\n",
    "                binary_value.append(0)            \n",
    "        candidates = [item for item in item_list if int(item[j]) == binary_value[j]]\n",
    "        item_list = candidates\n",
    "        total_items = len(item_list)\n",
    "        if len(item_list) == 1:\n",
    "            print(item_list) \n",
    "            break\n",
    "    for j in range (0, value_size):\n",
    "        rating = rating + int(item_list[0][j])*pow(2,value_size-(j+1))\n",
    "    if mode == \"co2\":\n",
    "        print(\"co2_rating is \", rating)\n",
    "    else:\n",
    "        print(\"oxgen_rating is \", rating)\n",
    "    return(rating)"
   ]
  },
  {
   "cell_type": "code",
   "execution_count": 82,
   "id": "16336f41-b3f4-45b4-9772-543ec392e3d9",
   "metadata": {},
   "outputs": [
    {
     "name": "stdout",
     "output_type": "stream",
     "text": [
      "['01010']\n",
      "co2_rating is  10\n"
     ]
    },
    {
     "data": {
      "text/plain": [
       "10"
      ]
     },
     "execution_count": 82,
     "metadata": {},
     "output_type": "execute_result"
    }
   ],
   "source": [
    "find_rating(\"example.txt\",\"co2\")"
   ]
  },
  {
   "cell_type": "code",
   "execution_count": 83,
   "id": "486031aa-e609-4583-9ed2-d8ca166dcd9b",
   "metadata": {},
   "outputs": [
    {
     "name": "stdout",
     "output_type": "stream",
     "text": [
      "['10111']\n",
      "oxgen_rating is  23\n"
     ]
    },
    {
     "data": {
      "text/plain": [
       "23"
      ]
     },
     "execution_count": 83,
     "metadata": {},
     "output_type": "execute_result"
    }
   ],
   "source": [
    "find_rating(\"example.txt\",\"oxgen\")"
   ]
  },
  {
   "cell_type": "code",
   "execution_count": 85,
   "id": "448504e9-0cb2-42c8-b91a-2e6eb7de36cd",
   "metadata": {},
   "outputs": [
    {
     "name": "stdout",
     "output_type": "stream",
     "text": [
      "['110101000111']\n",
      "oxgen_rating is  3399\n",
      "['010011100001']\n",
      "co2_rating is  1249\n",
      "4245351\n"
     ]
    }
   ],
   "source": [
    "life_support_rating = find_rating(\"report.txt\",\"oxgen\")*find_rating(\"report.txt\",\"co2\")\n",
    "print(life_support_rating)"
   ]
  }
 ],
 "metadata": {
  "kernelspec": {
   "display_name": "Python 3 (ipykernel)",
   "language": "python",
   "name": "python3"
  },
  "language_info": {
   "codemirror_mode": {
    "name": "ipython",
    "version": 3
   },
   "file_extension": ".py",
   "mimetype": "text/x-python",
   "name": "python",
   "nbconvert_exporter": "python",
   "pygments_lexer": "ipython3",
   "version": "3.9.6"
  }
 },
 "nbformat": 4,
 "nbformat_minor": 5
}
