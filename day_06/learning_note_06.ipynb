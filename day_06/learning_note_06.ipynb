{
 "cells": [
  {
   "cell_type": "markdown",
   "metadata": {},
   "source": [
    "# Day 6\n",
    "## Problem 1 and 2\n",
    "Count how many lantern fish there would be in 80 days (Problem 1) and 256 days (Problem 2).\n",
    "\n",
    "- Fish has a number that is the days to count down to give a birth to one baby fish.\n",
    "- Newborn baby fish starts count down from 8, i.e. they give a birth to one in 8 days.\n",
    "- After that, they will repeat giving a birth to a new lantern fish in 7 days (when they give a birth to a new fish, their number is 0, next day, their number is 6).\n",
    "- Fish found at initial state will give a birth when their count is 0.\n",
    "\n",
    "### Approach (I was thinking about first)\n",
    "1. Sort and group fish into the same age group: in the example case, [4],[3,3],[2],[1]\n",
    "2. Fish existing at initial state will give a birth to a new baby fish `truncate((80-x)/7)` times.\n",
    "3. For each new generation, 1) calculate how many days to go, and 2) calculate how many times they could give a birth to a new baby fish. \n",
    "\n",
    "... this approach will make too many additions and looks quite cumbersome.\n",
    "\n",
    "### Let's learn from Marijn's code\n",
    "\n",
    "Marijn's code is here: https://gist.github.com/wmvanvliet/129b8246b7e9236926862c1d6603b5b6"
   ]
  },
  {
   "cell_type": "code",
   "execution_count": null,
   "metadata": {},
   "outputs": [],
   "source": [
    "## Day 6\n",
    "ages = [0] * 9\n",
    "with open('day6_input.txt') as f:\n",
    "    for age in f.read().split(','):\n",
    "        ages[int(age)] += 1\n",
    "for day in range(1, 257):\n",
    "    n_births = ages.pop(0)\n",
    "    ages.append(n_births)\n",
    "    ages[6] += n_births\n",
    "    if day == 80:\n",
    "        print('Day 6, part 1:', sum(ages)"
   ]
  },
  {
   "cell_type": "markdown",
   "metadata": {},
   "source": [
    "ages = [0] * 9\n",
    "--> It seems that making a list of the number of individuals for each age group, and add how many individuals each age group has per the day?\n",
    "\n",
    "\n",
    "with open('day6_input.txt') as f:\n",
    "    for age in f.read().split(','):\n",
    "        ages[int(age)] += 1\n",
    "\n",
    "--> this time, it seems normal `with open() as f` and `f.read()`\n",
    "--> make a list of number of individuals for each age.\n",
    "\n",
    "for day in range(1, 257):\n",
    "    n_births = ages.pop(0)\n",
    "    ages.append(n_births)\n",
    "    ages[6] += n_births\n",
    "    if day == 80:\n",
    "        print('Day 6, part 1:', sum(ages)\n",
    "\n",
    "--> it seems that 257 is relevant to Problem 2, but at least if it was `range(1,80)`, it would yield the answer for Problem 1?\n",
    "--> what is `pop` after `ages.`??\n",
    "    --> https://www.w3schools.com/python/ref_list_pop.asp\n",
    "    --> \"The pop() method removes the element at the specified position.\"\n",
    "    --> I think the explanation is not good; in practice, it returns the element of the specified position. In this case, at 0.\n",
    "--> So, here `n_births = ages.pop(0)` means that it gets the number of individuals at age 0\n",
    "\n"
   ]
  },
  {
   "cell_type": "code",
   "execution_count": 16,
   "metadata": {},
   "outputs": [
    {
     "name": "stdout",
     "output_type": "stream",
     "text": [
      "[0, 0, 0, 0, 0, 0, 0, 0, 0]\n",
      "ages_pre before pop;  [0, 1, 1, 2, 1, 0, 0, 0, 0]\n",
      "ages_pre after pop ;  [1, 1, 2, 1, 0, 0, 0, 0]\n",
      "after appending 4  ;  [1, 1, 2, 1, 0, 0, 0, 0, 4]\n"
     ]
    }
   ],
   "source": [
    "ages_pre = [0] * 9\n",
    "print(ages_pre)\n",
    "\n",
    "with open('example.txt') as f:\n",
    "    for age in f.read().split(','):\n",
    "        ages_pre[int(age)] += 1 \n",
    "\n",
    "print(\"ages_pre before pop; \", ages_pre)\n",
    "\n",
    "ages_pre.pop(0)\n",
    "print(\"ages_pre after pop ; \", ages_pre) ## Aha! Now I understand what `pop` does!! This is smart!!\n",
    "\n",
    "ages_pre.append(4)\n",
    "print(\"after appending 4  ; \", ages_pre)"
   ]
  },
  {
   "cell_type": "markdown",
   "metadata": {},
   "source": []
  },
  {
   "cell_type": "code",
   "execution_count": 27,
   "metadata": {},
   "outputs": [
    {
     "name": "stdout",
     "output_type": "stream",
     "text": [
      "problem 1:  352872\n",
      "problem 2:  1604361182149\n"
     ]
    }
   ],
   "source": [
    "count_downs = [0] * 9 # prepare a list for each age group to store how many individuals are in each age group. \n",
    "# changed the variable names to \"count down\" as when it is 0 it gives a birth.\n",
    "with open('input.txt') as f:\n",
    "    for ini_count_down in f.read().split(','):\n",
    "        count_downs[int(ini_count_down)] += 1 # count up for each individual into their corresponding age group.\n",
    "\n",
    "for day in range(1,257): # try first with 18 days. NB: the upper number for range needs to be +1.\n",
    "    n_births = count_downs[0] # at day x, each of the ones with count 0 give a birth to 1 new baby fish\n",
    "    count_downs.append(n_births)\n",
    "    count_downs.pop(0)\n",
    "    count_downs[6] += n_births # next round for the ones who gave a birth\n",
    "    # print(\"after\", day, \"day: \", count_downs)\n",
    "    if day == 80:\n",
    "        print(\"problem 1: \", sum(count_downs))\n",
    "print(\"problem 2: \", sum(count_downs)) # it seems it works."
   ]
  },
  {
   "cell_type": "markdown",
   "metadata": {},
   "source": [
    "# Lessons learned\n",
    "\n",
    "list.pop(pos) is very useful!!"
   ]
  },
  {
   "cell_type": "code",
   "execution_count": null,
   "metadata": {},
   "outputs": [],
   "source": []
  }
 ],
 "metadata": {
  "interpreter": {
   "hash": "aee8b7b246df8f9039afb4144a1f6fd8d2ca17a180786b69acc140d282b71a49"
  },
  "kernelspec": {
   "display_name": "Python 3.10.0 64-bit",
   "name": "python3"
  },
  "language_info": {
   "codemirror_mode": {
    "name": "ipython",
    "version": 3
   },
   "file_extension": ".py",
   "mimetype": "text/x-python",
   "name": "python",
   "nbconvert_exporter": "python",
   "pygments_lexer": "ipython3",
   "version": "3.10.1"
  },
  "orig_nbformat": 4
 },
 "nbformat": 4,
 "nbformat_minor": 2
}