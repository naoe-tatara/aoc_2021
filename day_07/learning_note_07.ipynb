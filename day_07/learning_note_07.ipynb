{
 "cells": [
  {
   "cell_type": "markdown",
   "metadata": {},
   "source": [
    "# Day 7\n",
    "\n",
    "## Problem 1\n",
    "Find the position where the sum of energy consumption of crab submarines is minimum.\n",
    "- Crab submarine can move only horizontally.\n",
    "- Moving 1 position consumes 1 fuel.\n",
    "\n",
    "## Approach (my thoughts)\n",
    "1. Takes crabs' initial positions as a list of int, like crab_pos[]\n",
    "2. When a target position is defined as \"x\", distance they need to move is to be absolute value of (crab_pos[i]-x).\n",
    "3. x should be somewhere between max(crab_pos[]) and min(crab_pos[]).\n",
    "    - to store result of the total fuel consumption, make a list of 0 in the same that covers from min to max of crab_pos and define it as fuel_cons[].\n",
    "4. For each potential x; \n",
    "    - calculate absolute value of difference between each position and x\n",
    "    - sum them up, and\n",
    "    - store the result in the fuel_cons[].\n",
    "5. Find the min(fuel_cons[])."
   ]
  },
  {
   "cell_type": "code",
   "execution_count": 2,
   "metadata": {},
   "outputs": [],
   "source": [
    "import numpy as np"
   ]
  },
  {
   "cell_type": "code",
   "execution_count": 23,
   "metadata": {},
   "outputs": [
    {
     "name": "stdout",
     "output_type": "stream",
     "text": [
      "[16  1  2  0  4  2  7  1  2 14]\n",
      "[ 49.  41.  37.  39.  41.  45.  49.  53.  59.  65.  71.  77.  83.  89.\n",
      "  95. 103. 111.]\n",
      "37.0\n"
     ]
    }
   ],
   "source": [
    "crab_pos = np.loadtxt('example.txt', delimiter = ',', dtype = 'int')\n",
    "print(crab_pos)\n",
    "\n",
    "fuel_cons = np.zeros(max(crab_pos)-min(crab_pos)+1)\n",
    "\n",
    "for j in range(len(fuel_cons)):\n",
    "    for i in crab_pos:\n",
    "        fuel_cons[j] += abs(i-j)\n",
    "\n",
    "print(fuel_cons)\n",
    "print(min(fuel_cons))"
   ]
  },
  {
   "cell_type": "markdown",
   "metadata": {},
   "source": [
    "OK, looks good!! Probably this is the fastest and shortest solution that I could reach on my own??"
   ]
  },
  {
   "cell_type": "code",
   "execution_count": 29,
   "metadata": {},
   "outputs": [],
   "source": [
    "def min_fuel(input):\n",
    "    crab_pos = np.loadtxt(input, delimiter = ',', dtype = 'int')\n",
    "    # print(crab_pos)\n",
    "    if min(crab_pos) != 0:\n",
    "        print(\"minimum position is not 0, please reconsider code\")\n",
    "        return()\n",
    "\n",
    "    fuel_cons = np.zeros(max(crab_pos)-min(crab_pos)+1)\n",
    "\n",
    "    for j in range(len(fuel_cons)):\n",
    "        for i in crab_pos:\n",
    "            fuel_cons[j] += abs(i-j)\n",
    "\n",
    "    # print(fuel_cons)\n",
    "    return(min(fuel_cons))"
   ]
  },
  {
   "cell_type": "code",
   "execution_count": 27,
   "metadata": {},
   "outputs": [
    {
     "name": "stdout",
     "output_type": "stream",
     "text": [
      "[16  1  2  0  4  2  7  1  2 14]\n",
      "[ 49.  41.  37.  39.  41.  45.  49.  53.  59.  65.  71.  77.  83.  89.\n",
      "  95. 103. 111.]\n"
     ]
    },
    {
     "data": {
      "text/plain": [
       "37.0"
      ]
     },
     "execution_count": 27,
     "metadata": {},
     "output_type": "execute_result"
    }
   ],
   "source": [
    "min_fuel('example.txt')"
   ]
  },
  {
   "cell_type": "code",
   "execution_count": 30,
   "metadata": {},
   "outputs": [
    {
     "data": {
      "text/plain": [
       "336131.0"
      ]
     },
     "execution_count": 30,
     "metadata": {},
     "output_type": "execute_result"
    }
   ],
   "source": [
    "min_fuel('input.txt')"
   ]
  },
  {
   "cell_type": "markdown",
   "metadata": {},
   "source": [
    "## Problem 2\n",
    "\n",
    "- Crabs' fuel consumption model is changed; it consumes n-fuels at n-th step. For example, if a crab needs to move 3 positions, then it consumes 1+2+3 = 6 fuels.\n",
    "- Again find the position where the sum of the fuel consumptions of all the crabs.\n",
    "\n",
    "## Approach (my thoughts)\n",
    "\n",
    "`abs(i-j)` part should be redefined to incremental sum from 1 to the `abs(i-j)` if `abs(i-j) > 0`. Otherwise 0.\n",
    "Incremental sum can be calculated by `inc_sum = (1+abs(i-j))*abs(i-j)/2`"
   ]
  },
  {
   "cell_type": "code",
   "execution_count": 31,
   "metadata": {},
   "outputs": [],
   "source": [
    "def min_fuel_incremental(input):\n",
    "    crab_pos = np.loadtxt(input, delimiter = ',', dtype = 'int')\n",
    "    # print(crab_pos)\n",
    "    if min(crab_pos) != 0:\n",
    "        print(\"minimum position is not 0, please reconsider code\")\n",
    "        return()\n",
    "\n",
    "    fuel_cons = np.zeros(max(crab_pos)-min(crab_pos)+1)\n",
    "\n",
    "    for j in range(len(fuel_cons)):\n",
    "        for i in crab_pos:\n",
    "            fuel_cons[j] += abs(i-j)*(1+abs(i-j))/2\n",
    "\n",
    "    print(fuel_cons)\n",
    "    return(min(fuel_cons))"
   ]
  },
  {
   "cell_type": "code",
   "execution_count": 32,
   "metadata": {},
   "outputs": [
    {
     "name": "stdout",
     "output_type": "stream",
     "text": [
      "[290. 242. 206. 183. 170. 168. 176. 194. 223. 262. 311. 370. 439. 518.\n",
      " 607. 707. 817.]\n"
     ]
    },
    {
     "data": {
      "text/plain": [
       "168.0"
      ]
     },
     "execution_count": 32,
     "metadata": {},
     "output_type": "execute_result"
    }
   ],
   "source": [
    "min_fuel_incremental('example.txt')"
   ]
  },
  {
   "cell_type": "code",
   "execution_count": 33,
   "metadata": {},
   "outputs": [
    {
     "name": "stdout",
     "output_type": "stream",
     "text": [
      "[2.04841789e+08 2.04368290e+08 2.03895799e+08 ... 1.13795219e+09\n",
      " 1.13939868e+09 1.14084618e+09]\n"
     ]
    },
    {
     "data": {
      "text/plain": [
       "92676646.0"
      ]
     },
     "execution_count": 33,
     "metadata": {},
     "output_type": "execute_result"
    }
   ],
   "source": [
    "min_fuel_incremental('input.txt')"
   ]
  },
  {
   "cell_type": "markdown",
   "metadata": {},
   "source": [
    "## Self-discussion\n",
    "It seems that the others could solve by much less time. \n",
    "Problem 1's position is \"median\"??"
   ]
  }
 ],
 "metadata": {
  "interpreter": {
   "hash": "aee8b7b246df8f9039afb4144a1f6fd8d2ca17a180786b69acc140d282b71a49"
  },
  "kernelspec": {
   "display_name": "Python 3.10.0 64-bit",
   "name": "python3"
  },
  "language_info": {
   "codemirror_mode": {
    "name": "ipython",
    "version": 3
   },
   "file_extension": ".py",
   "mimetype": "text/x-python",
   "name": "python",
   "nbconvert_exporter": "python",
   "pygments_lexer": "ipython3",
   "version": "3.9.6"
  },
  "orig_nbformat": 4
 },
 "nbformat": 4,
 "nbformat_minor": 2
}