{
 "cells": [
  {
   "cell_type": "markdown",
   "metadata": {},
   "source": [
    "# Day 05\n",
    "\n",
    "## Problem 1\n",
    "\n",
    "Find the number of points where at least two lines overlap. Think only about vertical and horizontal lines.\n",
    "\n",
    "### Steps to take\n",
    "1. get the input lines and convert each line to a combination of [x1, y1] and [x2, y2].\n",
    "2. get the min and max of x and y\n",
    "3. make an array of x(max)-x(min)+1 * y(max)-y(min)+1 with 0\n",
    "4. x-round: 1) filter combinations where x1 == x2, 2) for each x kept, add 1 to the y values from min to max in the array made in step 3\n",
    "5. y-round\n",
    "6. count up positions where >=2 in the array"
   ]
  },
  {
   "cell_type": "code",
   "execution_count": 14,
   "metadata": {},
   "outputs": [
    {
     "name": "stdout",
     "output_type": "stream",
     "text": [
      "['0,9 -> 5,9', '8,0 -> 0,8', '9,4 -> 3,4', '2,2 -> 2,1', '7,0 -> 7,4', '6,4 -> 2,0', '0,9 -> 2,9', '3,4 -> 1,4', '0,0 -> 8,8', '5,5 -> 8,2']\n"
     ]
    }
   ],
   "source": [
    "import numpy as np\n",
    "\n",
    "with open(\"example.txt\", \"r\") as input_text:\n",
    "    lines_text = input_text.read()\n",
    "\n",
    "lines_text_list = lines_text.split(\"\\n\")\n",
    "#lines_text_no_arrow = lines_text_list.split(\" -> \").\n",
    "    \n",
    "# np.loadtxt((line_text.replace(), delimiter=\" -> \")\n",
    "print(lines_text_list)"
   ]
  },
  {
   "cell_type": "code",
   "execution_count": 18,
   "metadata": {},
   "outputs": [
    {
     "name": "stdout",
     "output_type": "stream",
     "text": [
      "['0,9,5,9', '8,0,0,8', '9,4,3,4', '2,2,2,1', '7,0,7,4', '6,4,2,0', '0,9,2,9', '3,4,1,4', '0,0,8,8', '5,5,8,2']\n"
     ]
    }
   ],
   "source": [
    "lines_value_str = [lines_text_list[i].replace(\" -> \", \",\") for i in range(0,len(lines_text_list))]\n",
    "print(lines_value_str)"
   ]
  },
  {
   "cell_type": "markdown",
   "metadata": {},
   "source": [
    "## Let's learn from Marijn's solution!\n",
    "\n",
    "Marijn's solution is at https://gist.github.com/wmvanvliet/129b8246b7e9236926862c1d6603b5b6"
   ]
  },
  {
   "cell_type": "code",
   "execution_count": 59,
   "metadata": {},
   "outputs": [
    {
     "name": "stdout",
     "output_type": "stream",
     "text": [
      "[[[0 9]\n",
      "  [5 9]]\n",
      "\n",
      " [[8 0]\n",
      "  [0 8]]\n",
      "\n",
      " [[9 4]\n",
      "  [3 4]]\n",
      "\n",
      " [[2 2]\n",
      "  [2 1]]\n",
      "\n",
      " [[7 0]\n",
      "  [7 4]]\n",
      "\n",
      " [[6 4]\n",
      "  [2 0]]\n",
      "\n",
      " [[0 9]\n",
      "  [2 9]]\n",
      "\n",
      " [[3 4]\n",
      "  [1 4]]\n",
      "\n",
      " [[0 0]\n",
      "  [8 8]]\n",
      "\n",
      " [[5 5]\n",
      "  [8 2]]]\n",
      "[5 3 1]\n",
      "[[0 0 0 0 0 0 0 0 1 0]\n",
      " [0 0 0 0 0 0 0 1 0 0]\n",
      " [0 0 0 0 0 0 1 0 0 0]\n",
      " [0 0 0 0 0 1 0 0 0 0]\n",
      " [0 0 0 0 1 0 0 0 0 0]\n",
      " [0 0 0 1 0 0 0 0 0 0]\n",
      " [0 0 1 0 0 0 0 0 0 0]\n",
      " [0 1 0 0 0 0 0 0 0 0]\n",
      " [1 0 0 0 0 0 0 0 0 0]\n",
      " [0 0 0 0 0 0 0 0 0 0]]\n"
     ]
    }
   ],
   "source": [
    "# x = lambda s : s.split(',')\n",
    "lines_test = np.loadtxt('example.txt', delimiter=' -> ', converters={0: lambda s: s.split(','), 1: lambda s: s.split(',')}, encoding='utf8', dtype='int')\n",
    "print(lines_test)\n",
    "# print(np.sum(lines_test[0:2] >5))\n",
    "# x1, x2 = 1, 2 # this is also a convenient way of writing! 2 variables can be defined in one line!\n",
    "# xdir = 1 if x1 < x2 else 0 # it is convenient way of writing!!\n",
    "# print(xdir)\n",
    "\n",
    "field = np.zeros((10,10), dtype = 'int')\n",
    "print(np.arange(0,9)[5:0:-2])\n",
    "field[(np.arange(0, 4)[::1], np.arange(2, 6)[::-1])] += 1\n",
    "print(field)"
   ]
  },
  {
   "cell_type": "code",
   "execution_count": 44,
   "metadata": {},
   "outputs": [
    {
     "name": "stdout",
     "output_type": "stream",
     "text": [
      "Day 5, part 1: 6283\n",
      "Day 5, part 2 18864\n"
     ]
    }
   ],
   "source": [
    "## Day 5\n",
    "def split_on_comma(x):\n",
    "    return x.split(',')\n",
    "\n",
    "lines = np.loadtxt('input.txt', delimiter=' -> ', converters={0: split_on_comma, 1: split_on_comma}, encoding='utf8', dtype='int')\n",
    "# numpy.loadtxt(converters=) --> converters: convert the value in the specified column by the specified function. it is defined in dictionary {(column): (function)}\n",
    "# For example, in this case, after one line is divided by \"->\", then column 0 is '0,9' for the first line, colum 1 is '5,9'. \n",
    "# Marijn defined in the first 2 lines \"split_on_comma\" function, which is applied in the dictionary.\n",
    "# lambda works also fine.\n",
    "width, height = lines.max(axis=(0, 1)) + 1\n",
    "# axis=0 --> row, axis=1 --> column\n",
    "field_part1 = np.zeros((height, width), dtype='int')\n",
    "field_part2 = np.zeros_like(field_part1)\n",
    "# zeros_like(array) -> make an array of 0 in the same shape of the referred array.\n",
    "\n",
    "for [x1, y1], [x2, y2] in lines:\n",
    "    xmin, xmax = min(x1, x2), max(x1, x2) + 1 # +1 is necessary because when indexing, the last index should be +1 (e.g., until \"before\" the last index)\n",
    "    ymin, ymax = min(y1, y2), max(y1, y2) + 1\n",
    "    xdir = 1 if x1 < x2 else -1\n",
    "    ydir = 1 if y1 < y2 else -1\n",
    "\n",
    "    if x1 == x2 or y1 == y2:  # horizontal or vertical line\n",
    "        field_part1[ymin:ymax, xmin:xmax] += 1 # using indexing for rows (y) and columns (x)\n",
    "        field_part2[ymin:ymax, xmin:xmax] += 1\n",
    "    else:  # Diagonal line \n",
    "        # NB!in this challenge, all the lines are either of horizontal, vertical or diagonal.\n",
    "        field_part2[(np.arange(ymin, ymax)[::ydir], np.arange(xmin, xmax)[::xdir])] += 1\n",
    "\n",
    "print('Day 5, part 1:', np.sum(field_part1 >= 2)) # it counts the number of elements in an array that satisfy the condition.\n",
    "print('Day 5, part 2', np.sum(field_part2 >= 2))"
   ]
  },
  {
   "cell_type": "code",
   "execution_count": null,
   "metadata": {},
   "outputs": [],
   "source": []
  }
 ],
 "metadata": {
  "interpreter": {
   "hash": "aee8b7b246df8f9039afb4144a1f6fd8d2ca17a180786b69acc140d282b71a49"
  },
  "kernelspec": {
   "display_name": "Python 3.10.0 64-bit",
   "name": "python3"
  },
  "language_info": {
   "name": "python",
   "version": ""
  }
 },
 "nbformat": 4,
 "nbformat_minor": 5
}