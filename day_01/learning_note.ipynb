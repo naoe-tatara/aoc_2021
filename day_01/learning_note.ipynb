{
 "cells": [
  {
   "cell_type": "markdown",
   "id": "efd4cbd4-e12a-40f7-9645-469979a285f0",
   "metadata": {},
   "source": [
    "# Day 01\n",
    "\n",
    "## Problem 1\n",
    "\n",
    "count the number of times a depth measurement increases from the previous measurement.(There is no measurement before the first measurement.) \n",
    "\n",
    "### Example\n",
    "\n",
    "199 \n",
    "200 \n",
    "208 \n",
    "210 \n",
    "200 \n",
    "207 \n",
    "240 \n",
    "269 \n",
    "260 \n",
    "263 \n",
    "\n",
    "199 (N/A - no previous measurement)\n",
    "**200 (increased)** \n",
    "**208 (increased)** \n",
    "**210 (increased)** \n",
    "200 (decreased) \n",
    "**207 (increased)** \n",
    "**240 (increased)** \n",
    "**269 (increased)** \n",
    "260 (decreased) \n",
    "**263 (increased)** \n",
    "\n",
    "So the answer is 7."
   ]
  },
  {
   "cell_type": "markdown",
   "id": "5103bf8b-c554-456d-91a2-3afb8bcc5a2a",
   "metadata": {},
   "source": [
    "### Steps to take\n",
    "\n",
    "1. Define a list variable and assign the numbers.\n",
    "2. Measure the length of the list.\n",
    "3. Repeat comparing i-th element and i+1-th element from i = 0 to the end.\n",
    "4. Define a count variable and set it to 0.\n",
    "5. If i+1-th element is larger than i-th element, then add 1 to the variable defined at step 4.\n",
    "6. Make it into a function."
   ]
  },
  {
   "cell_type": "markdown",
   "id": "b3611484-268a-49eb-851f-b8593710c243",
   "metadata": {},
   "source": [
    "### Step 1: Define a list variable and assign the numbers"
   ]
  },
  {
   "cell_type": "code",
   "execution_count": 14,
   "id": "38a46d6f-2cf2-487b-bcea-2d3aee83f44b",
   "metadata": {},
   "outputs": [
    {
     "name": "stdout",
     "output_type": "stream",
     "text": [
      "199\n",
      "200\n",
      "208\n",
      "210\n",
      "200\n",
      "207\n",
      "240\n",
      "269\n",
      "260\n",
      "263\n"
     ]
    },
    {
     "data": {
      "text/plain": [
       "str"
      ]
     },
     "execution_count": 14,
     "metadata": {},
     "output_type": "execute_result"
    }
   ],
   "source": [
    "with open('example.txt','r') as input_text:\n",
    "    numbers = input_text.read()\n",
    "\n",
    "print(numbers)\n",
    "type(numbers) "
   ]
  },
  {
   "cell_type": "markdown",
   "id": "ccca7eb2-8731-4be7-8256-35d1148a8a88",
   "metadata": {},
   "source": [
    "As it is, the variable becomes string. this needs to be converted to a list."
   ]
  },
  {
   "cell_type": "code",
   "execution_count": 15,
   "id": "d4014e11-d001-4576-a2c6-4ecfe5cb994e",
   "metadata": {},
   "outputs": [
    {
     "name": "stdout",
     "output_type": "stream",
     "text": [
      "['199', '200', '208', '210', '200', '207', '240', '269', '260', '263']\n"
     ]
    }
   ],
   "source": [
    "numbers_list = numbers.split('\\n')\n",
    "print(numbers_list)"
   ]
  },
  {
   "cell_type": "markdown",
   "id": "0112d598-e068-47de-9925-8d8bc53c7ae4",
   "metadata": {},
   "source": [
    "Oh, no, this is a list of strings! they need to be converted to numeric values."
   ]
  },
  {
   "cell_type": "code",
   "execution_count": 13,
   "id": "f21a30db-425e-42ee-8d8d-839fc738ec63",
   "metadata": {},
   "outputs": [
    {
     "name": "stdout",
     "output_type": "stream",
     "text": [
      "[199, 200, 208, 210, 200, 207, 240, 269, 260, 263]\n"
     ]
    }
   ],
   "source": [
    "num_list = [int(n) for n in numbers_list]\n",
    "print(num_list)"
   ]
  },
  {
   "cell_type": "markdown",
   "id": "4dea8d41-e42c-4fa1-91e6-bb40688b9a3c",
   "metadata": {},
   "source": [
    "### Step 2: Measure the length of the list."
   ]
  },
  {
   "cell_type": "code",
   "execution_count": 21,
   "id": "9927f5d5-d28f-48c3-a72f-f1400df11527",
   "metadata": {},
   "outputs": [
    {
     "name": "stdout",
     "output_type": "stream",
     "text": [
      "10\n"
     ]
    }
   ],
   "source": [
    "length_list = len(num_list)\n",
    "print(length_list)"
   ]
  },
  {
   "cell_type": "markdown",
   "id": "a765eeaa-c801-48cc-9ad7-81eb90163313",
   "metadata": {},
   "source": [
    "### Step 3: Repeat comparing i-th element and i+1-th element from i = 0 to the end"
   ]
  },
  {
   "cell_type": "code",
   "execution_count": 22,
   "id": "6429fcac-58ee-41cb-abdd-5d8b91f8ae9b",
   "metadata": {},
   "outputs": [
    {
     "name": "stdout",
     "output_type": "stream",
     "text": [
      "200\n",
      "208\n",
      "210\n",
      "200\n",
      "207\n",
      "240\n",
      "269\n",
      "260\n",
      "263\n"
     ]
    }
   ],
   "source": [
    "for i in range (1,length_list):\n",
    "    print(num_list[i])"
   ]
  },
  {
   "cell_type": "markdown",
   "id": "99759722-6ef5-4a0d-8b10-4885b80edd72",
   "metadata": {},
   "source": [
    "**Lessons**\n",
    "1. for loop needs \":\" in the end\n",
    "2. if not \"in []\" but incremental numbers in range, then use \"in range (start, last)"
   ]
  },
  {
   "cell_type": "code",
   "execution_count": 24,
   "id": "60453bae-09c5-4b22-a382-f2c5856b5f27",
   "metadata": {},
   "outputs": [
    {
     "name": "stdout",
     "output_type": "stream",
     "text": [
      "increased\n",
      "increased\n",
      "increased\n",
      "decreased\n",
      "increased\n",
      "increased\n",
      "increased\n",
      "decreased\n",
      "increased\n"
     ]
    }
   ],
   "source": [
    "for i in range (1,length_list):\n",
    "    if num_list[i] > num_list[i-1]:\n",
    "        print(\"increased\")\n",
    "    else:\n",
    "        print(\"decreased\")\n",
    "    "
   ]
  },
  {
   "cell_type": "markdown",
   "id": "6806b924-702d-4668-8efb-90849ac840fa",
   "metadata": {},
   "source": [
    "**Lessons**\n",
    "\n",
    "3. it is not \"not if\", but \"else\""
   ]
  },
  {
   "cell_type": "markdown",
   "id": "62c2a31e-9ea6-4e4e-a630-a44f12354360",
   "metadata": {},
   "source": [
    "### Step 4: Define a count variable and set it to 0."
   ]
  },
  {
   "cell_type": "code",
   "execution_count": 25,
   "id": "6d37d9d4-47c5-41a1-bf5f-ecec7a5661b6",
   "metadata": {},
   "outputs": [
    {
     "name": "stdout",
     "output_type": "stream",
     "text": [
      "0\n"
     ]
    }
   ],
   "source": [
    "count = 0\n",
    "print(count)"
   ]
  },
  {
   "cell_type": "markdown",
   "id": "f3603f76-026e-40a4-8903-9a2331e075b0",
   "metadata": {},
   "source": [
    "### Step 5: If i+1-th element is larger than i-th element, then add 1 to the variable defined at step 4."
   ]
  },
  {
   "cell_type": "code",
   "execution_count": 26,
   "id": "ea36b34b-7af5-40eb-9311-158cd5837a4d",
   "metadata": {},
   "outputs": [
    {
     "name": "stdout",
     "output_type": "stream",
     "text": [
      "1\n",
      "2\n",
      "3\n",
      "4\n",
      "5\n",
      "6\n",
      "7\n"
     ]
    }
   ],
   "source": [
    "for i in range (1,length_list):\n",
    "    if num_list[i] > num_list[i-1]:\n",
    "        count = count+1\n",
    "        print(count)"
   ]
  },
  {
   "cell_type": "markdown",
   "id": "7a996932-922c-4ab1-bb89-85cf07395b44",
   "metadata": {},
   "source": [
    "### Step 6: Make it into a function"
   ]
  },
  {
   "cell_type": "code",
   "execution_count": 36,
   "id": "7f7a6e3e-488f-4a76-a26a-8ef1769fc877",
   "metadata": {},
   "outputs": [],
   "source": [
    "def count_depth_increase(input_file):\n",
    "    with open(input_file,'r') as input_text:\n",
    "        numbers_str = input_text.read()\n",
    "    numbers_str_list = numbers_str.split('\\n')\n",
    "    num_list = [int(n) for n in numbers_str_list]\n",
    "    length_list = len(num_list)\n",
    "    count = 0\n",
    "    for i in range (1,length_list):\n",
    "        if num_list[i] > num_list[i-1]:\n",
    "            count = count+1\n",
    "    print(count)        "
   ]
  },
  {
   "cell_type": "code",
   "execution_count": 37,
   "id": "60e75403-a9ff-41b7-bcd2-70a35617baef",
   "metadata": {},
   "outputs": [
    {
     "name": "stdout",
     "output_type": "stream",
     "text": [
      "7\n"
     ]
    }
   ],
   "source": [
    "count_depth_increase(\"example.txt\")"
   ]
  },
  {
   "cell_type": "markdown",
   "id": "c41f234e-720a-4004-beb1-0e3707c7156c",
   "metadata": {},
   "source": [
    "Oh, it seems it functions, yay!"
   ]
  },
  {
   "cell_type": "code",
   "execution_count": 38,
   "id": "5d9a19b0-1f7f-4be6-a158-e75fd37ea216",
   "metadata": {},
   "outputs": [
    {
     "name": "stdout",
     "output_type": "stream",
     "text": [
      "1387\n"
     ]
    }
   ],
   "source": [
    "count_depth_increase(\"depth.txt\")"
   ]
  },
  {
   "cell_type": "markdown",
   "id": "636cf544-4796-4922-92e5-55c9a3082798",
   "metadata": {},
   "source": [
    "Yay, I got the right answer!!!"
   ]
  },
  {
   "cell_type": "markdown",
   "id": "68f6360e-6823-4672-a777-8a5b13f17340",
   "metadata": {},
   "source": [
    "## Problem 2\n",
    "\n",
    "Count the number of times the sum of 3 measurements in this sliding window increases from the previous sum.\n",
    "\n",
    "### Example\n",
    "In the case of the example, it will be:\n",
    "\n",
    "```\n",
    "A: 607 (N/A - no previous sum)\n",
    "B: 618 (increased)\n",
    "C: 618 (no change)\n",
    "D: 617 (decreased)\n",
    "E: 647 (increased)\n",
    "F: 716 (increased)\n",
    "G: 769 (increased)\n",
    "H: 792 (increased)\n",
    "````\n",
    "\n",
    "and the answer is 5.\n",
    "\n",
    "### Steps to take\n",
    "Define a new empty list where the sum of 3 measurements can be stored.\n",
    "Otherwise apply what I made for Problem 1. "
   ]
  },
  {
   "cell_type": "code",
   "execution_count": 59,
   "id": "1d2fa392-3c8d-4078-a587-5ea0d4740685",
   "metadata": {},
   "outputs": [
    {
     "name": "stdout",
     "output_type": "stream",
     "text": [
      "[607, 618, 618, 617, 647, 716, 769, 792]\n"
     ]
    }
   ],
   "source": [
    "window_3_measurements = [num_list[i]+num_list[i+1]+num_list[i+2] for i in range (0, length_list-2)]\n",
    "print(window_3_measurements)"
   ]
  },
  {
   "cell_type": "markdown",
   "id": "392fc453-d520-451b-8574-5d0f9e4c76c1",
   "metadata": {},
   "source": [
    "**Lessons**\n",
    "\n",
    "4. in this case, the range is to be length_list-2 but not -3"
   ]
  },
  {
   "cell_type": "code",
   "execution_count": 52,
   "id": "9d8431e2-f3a1-488f-b480-18be47916a45",
   "metadata": {},
   "outputs": [
    {
     "name": "stdout",
     "output_type": "stream",
     "text": [
      "607\n",
      "10\n",
      "792\n"
     ]
    }
   ],
   "source": [
    "count_window_increase = 0\n",
    "# see how index is used below..\n",
    "print(window_3_measurements[0])\n",
    "print(length_list)\n",
    "print(window_3_measurements[length_list-2-1])"
   ]
  },
  {
   "cell_type": "code",
   "execution_count": 51,
   "id": "230d4563-e477-4ddc-88dc-8816a7b5c20b",
   "metadata": {},
   "outputs": [
    {
     "name": "stdout",
     "output_type": "stream",
     "text": [
      "5\n"
     ]
    }
   ],
   "source": [
    "for i in range (0, length_list-2-1):\n",
    "    if window_3_measurements[i] < window_3_measurements[i+1]:\n",
    "        count_window_increase = count_window_increase + 1\n",
    "print(count_window_increase)"
   ]
  },
  {
   "cell_type": "markdown",
   "id": "53242340-1a7c-445e-bd6a-843d705319b1",
   "metadata": {},
   "source": [
    "Define a function. Probabaly it can be modularized?\n",
    "\n",
    "### Steps to take to modularize codes\n",
    "\n",
    "1. define a function to make a list of numeric values from a text file\n",
    "2. define a function to make a list of windows based on the input list\n",
    "3. define a function to compare list elements within the input list and count how many times an element in the list is larger than the previous element\n",
    "\n",
    "### Step 1: Define a function to make a list of numeric values from a text file"
   ]
  },
  {
   "cell_type": "code",
   "execution_count": 53,
   "id": "0ce928ff-4f87-4b59-ad5f-fbd71e4b76c6",
   "metadata": {},
   "outputs": [],
   "source": [
    "def make_num_list(input_file):\n",
    "    with open(input_file,'r') as input_text:\n",
    "        numbers_str = input_text.read()\n",
    "    numbers_str_list = numbers_str.split('\\n')\n",
    "    num_list = [int(n) for n in numbers_str_list]\n",
    "    return(num_list)"
   ]
  },
  {
   "cell_type": "code",
   "execution_count": 74,
   "id": "79c0c4a2-6589-4550-af54-8b347c152cbd",
   "metadata": {},
   "outputs": [
    {
     "data": {
      "text/plain": [
       "[199, 200, 208, 210, 200, 207, 240, 269, 260, 263]"
      ]
     },
     "execution_count": 74,
     "metadata": {},
     "output_type": "execute_result"
    }
   ],
   "source": [
    "make_num_list(\"example.txt\")"
   ]
  },
  {
   "cell_type": "markdown",
   "id": "0c04caba-e241-4688-b0b6-a039d335d68c",
   "metadata": {},
   "source": [
    "### Step 2: Define a function to make a list of windows based on the input list\n",
    "\n",
    "It should be probably better to be able to define the size of window."
   ]
  },
  {
   "cell_type": "code",
   "execution_count": 73,
   "id": "e563c3b0-2eee-4c45-980b-142dc5efcec7",
   "metadata": {},
   "outputs": [
    {
     "name": "stdout",
     "output_type": "stream",
     "text": [
      "[607, 618, 618, 617, 647, 716, 769, 792]\n"
     ]
    },
    {
     "data": {
      "text/plain": [
       "list"
      ]
     },
     "execution_count": 73,
     "metadata": {},
     "output_type": "execute_result"
    }
   ],
   "source": [
    "win_width = 3\n",
    "window_3_measurements_test = []\n",
    "sum_3 = 0\n",
    "for i in range (0, length_list-(win_width-1)):\n",
    "    for j in range (i, i+(win_width)):\n",
    "        sum_3 += num_list[j]\n",
    "    window_3_measurements_test.append(sum_3)\n",
    "    sum_3 = 0\n",
    "print(window_3_measurements_test)\n",
    "type(window_3_measurements_test)"
   ]
  },
  {
   "cell_type": "code",
   "execution_count": 80,
   "id": "fd108d22-e928-4df2-8590-384efb450ddd",
   "metadata": {},
   "outputs": [],
   "source": [
    "def make_win_list(input_num_list, win_width):\n",
    "    length_list = len(input_num_list)\n",
    "    window_sum_measurements = []\n",
    "    sum_win = 0\n",
    "    for i in range (0, length_list-(win_width-1)):\n",
    "        for j in range (i, i+(win_width)):\n",
    "        sum_win += num_list[j]\n",
    "        window_sum_measurements.append(sum_win)\n",
    "        sum_win = 0\n",
    "    return(window_sum_measurements)  "
   ]
  },
  {
   "cell_type": "code",
   "execution_count": 81,
   "id": "611ca974-fbae-4d0e-adee-75ceb18df2e3",
   "metadata": {},
   "outputs": [
    {
     "name": "stdout",
     "output_type": "stream",
     "text": [
      "<class 'list'>\n",
      "<class 'list'>\n"
     ]
    }
   ],
   "source": [
    "num_list = make_num_list(\"example.txt\")\n",
    "print(type(num_list))\n",
    "win_list = make_win_list(num_list,3)\n",
    "print(type(win_list))"
   ]
  },
  {
   "cell_type": "markdown",
   "id": "0d56ed5d-65ae-4d89-85d1-6e37f1129bac",
   "metadata": {},
   "source": [
    "### Step 3: Define a function to compare list elements within the input list and count how many times an element in the list is larger than the previous element"
   ]
  },
  {
   "cell_type": "code",
   "execution_count": 85,
   "id": "f9b9c426-d894-4f46-84c4-22a158da8d9b",
   "metadata": {},
   "outputs": [],
   "source": [
    "def count_win_depth_increase(input_win_list):\n",
    "    length_list = len(input_win_list)\n",
    "    count = 0\n",
    "    for i in range (1,length_list):\n",
    "        if input_win_list[i] > input_win_list[i-1]:\n",
    "            count = count+1\n",
    "    print(count)      "
   ]
  },
  {
   "cell_type": "code",
   "execution_count": 86,
   "id": "eedccc54-6805-44cb-b9e5-bd5ba99fd1c5",
   "metadata": {},
   "outputs": [
    {
     "name": "stdout",
     "output_type": "stream",
     "text": [
      "5\n"
     ]
    }
   ],
   "source": [
    "count_win_depth_increase(win_list)"
   ]
  },
  {
   "cell_type": "markdown",
   "id": "e6b92ccf-64a1-4534-a633-afca91e4ea6e",
   "metadata": {},
   "source": [
    "OK, it seems it functions finally. Let's try with the depth.txt."
   ]
  },
  {
   "cell_type": "code",
   "execution_count": 87,
   "id": "95f298a4-1420-44ef-8ebd-4172b9ed925d",
   "metadata": {},
   "outputs": [
    {
     "name": "stdout",
     "output_type": "stream",
     "text": [
      "1362\n"
     ]
    }
   ],
   "source": [
    "num_list = make_num_list(\"depth.txt\")\n",
    "win_list = make_win_list(num_list,3)\n",
    "count_win_depth_increase(win_list)"
   ]
  },
  {
   "cell_type": "markdown",
   "id": "660c4373-fa7b-433c-a193-328a947a74d3",
   "metadata": {},
   "source": [
    "Hurray, I got the right answer!!! Congratulations on the first achievement :D"
   ]
  },
  {
   "cell_type": "markdown",
   "id": "fd1b9ca2-8980-4706-b3df-25f8e8cd0bfb",
   "metadata": {},
   "source": [
    "### Revision\n",
    "According to [this page](https://github.com/TechnoTone/AdventOfCode2021/blob/main/Python/day_01.py), it seems it is possible to add list items by setting range \"[x:y]\". So let's try this."
   ]
  },
  {
   "cell_type": "code",
   "execution_count": 89,
   "id": "8c04e7b0-74fd-48d7-91c1-f363255dbc97",
   "metadata": {},
   "outputs": [
    {
     "name": "stdout",
     "output_type": "stream",
     "text": [
      "[199, 200, 208, 210, 200, 207, 240, 269, 260, 263]\n"
     ]
    }
   ],
   "source": [
    "num_list_ex = make_num_list(\"example.txt\")\n",
    "print(num_list_ex)"
   ]
  },
  {
   "cell_type": "code",
   "execution_count": 90,
   "id": "f4748463-a97f-4623-98f1-08b4e362eb30",
   "metadata": {},
   "outputs": [
    {
     "name": "stdout",
     "output_type": "stream",
     "text": [
      "[607, 618, 618, 617, 647, 716, 769, 792]\n"
     ]
    }
   ],
   "source": [
    "win_list_ex = [sum(num_list_ex[i:i+3]) for i in range (len(num_list_ex)-2)]\n",
    "print(win_list_ex)"
   ]
  },
  {
   "cell_type": "markdown",
   "id": "fb2bfc82-ccc4-4bb4-b718-e42c82a1c56b",
   "metadata": {},
   "source": [
    "OK, it seems it works. Let's revise `make_win_list` function."
   ]
  },
  {
   "cell_type": "code",
   "execution_count": 92,
   "id": "cd799ff3-4ffb-410b-a60a-c74f19916026",
   "metadata": {},
   "outputs": [],
   "source": [
    "def make_win_list_2(input_num_list, win_width):\n",
    "    window_sum_measurements = [sum(input_num_list[i:i+win_width]) for i in range (len(input_num_list)-(win_width-1))]\n",
    "    return(window_sum_measurements)  "
   ]
  },
  {
   "cell_type": "code",
   "execution_count": 93,
   "id": "8de44c9b-651f-4b4c-99d1-1c3b8e00c47e",
   "metadata": {},
   "outputs": [
    {
     "name": "stdout",
     "output_type": "stream",
     "text": [
      "1362\n"
     ]
    }
   ],
   "source": [
    "num_list = make_num_list(\"depth.txt\")\n",
    "win_list = make_win_list_2(num_list,3)\n",
    "count_win_depth_increase(win_list)"
   ]
  },
  {
   "cell_type": "markdown",
   "id": "896deceb-0aa3-492b-93a9-d7c483f7378d",
   "metadata": {},
   "source": [
    "It looks much better :)"
   ]
  },
  {
   "cell_type": "code",
   "execution_count": null,
   "id": "499688f4-4050-4b92-8db1-0b4e97734d57",
   "metadata": {},
   "outputs": [],
   "source": []
  }
 ],
 "metadata": {
  "kernelspec": {
   "display_name": "Python 3 (ipykernel)",
   "language": "python",
   "name": "python3"
  },
  "language_info": {
   "codemirror_mode": {
    "name": "ipython",
    "version": 3
   },
   "file_extension": ".py",
   "mimetype": "text/x-python",
   "name": "python",
   "nbconvert_exporter": "python",
   "pygments_lexer": "ipython3",
   "version": "3.9.6"
  }
 },
 "nbformat": 4,
 "nbformat_minor": 5
}
