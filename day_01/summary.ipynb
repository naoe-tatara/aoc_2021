{
 "cells": [
  {
   "cell_type": "markdown",
   "id": "d673b506-ba6c-4c72-8870-af045c7f2d8c",
   "metadata": {},
   "source": [
    "# Summary\n",
    "\n",
    "## Problem 1\n",
    "Count the number of times a depth measurement increases from the previous measurement. "
   ]
  },
  {
   "cell_type": "code",
   "execution_count": 2,
   "id": "e27400dc-f8a3-4bcd-a31c-48d813d1a636",
   "metadata": {},
   "outputs": [],
   "source": [
    "def count_depth_increase(input_file):\n",
    "    with open(input_file,'r') as input_text:\n",
    "        numbers_str = input_text.read()\n",
    "    numbers_str_list = numbers_str.split('\\n')\n",
    "    num_list = [int(n) for n in numbers_str_list]\n",
    "    count = 0\n",
    "    for i in range (1,len(num_list)):\n",
    "        if num_list[i] > num_list[i-1]:\n",
    "            count = count+1\n",
    "    return(count)        "
   ]
  },
  {
   "cell_type": "code",
   "execution_count": 3,
   "id": "a7b497a9-af18-4f2d-8273-59cb021b397c",
   "metadata": {},
   "outputs": [
    {
     "data": {
      "text/plain": [
       "1387"
      ]
     },
     "execution_count": 3,
     "metadata": {},
     "output_type": "execute_result"
    }
   ],
   "source": [
    "count_depth_increase(\"depth.txt\")"
   ]
  },
  {
   "cell_type": "markdown",
   "id": "5c66309c-3373-4a08-b474-2f2841a9958e",
   "metadata": {},
   "source": [
    "## Problem 2\n",
    "\n",
    "Count the number of times the sum of 3 measurements in this sliding window increases from the previous sum."
   ]
  },
  {
   "cell_type": "code",
   "execution_count": 4,
   "id": "3d13ee58-1f3f-41ea-85da-f9a87978b0c7",
   "metadata": {},
   "outputs": [],
   "source": [
    "def make_num_list(input_file):\n",
    "    with open(input_file,'r') as input_text:\n",
    "        numbers_str = input_text.read()\n",
    "    numbers_str_list = numbers_str.split('\\n')\n",
    "    num_list = [int(n) for n in numbers_str_list]\n",
    "    return(num_list)\n",
    "\n",
    "def make_win_list_2(input_num_list, win_width):\n",
    "    window_sum_measurements = [sum(input_num_list[i:i+win_width]) for i in range (len(input_num_list)-(win_width-1))]\n",
    "    return(window_sum_measurements)  \n",
    "\n",
    "def count_win_depth_increase(input_win_list):\n",
    "    length_list = len(input_win_list)\n",
    "    count = 0\n",
    "    for i in range (1,length_list):\n",
    "        if input_win_list[i] > input_win_list[i-1]:\n",
    "            count = count+1\n",
    "    return(count)      "
   ]
  },
  {
   "cell_type": "code",
   "execution_count": 5,
   "id": "7d0659b0-1235-4af2-9843-fa90f031495c",
   "metadata": {},
   "outputs": [
    {
     "data": {
      "text/plain": [
       "1362"
      ]
     },
     "execution_count": 5,
     "metadata": {},
     "output_type": "execute_result"
    }
   ],
   "source": [
    "num_list = make_num_list(\"depth.txt\")\n",
    "win_list = make_win_list_2(num_list,3)\n",
    "count_win_depth_increase(win_list)"
   ]
  },
  {
   "cell_type": "code",
   "execution_count": null,
   "id": "1398f4e5-5fca-4a46-84b1-13594970781c",
   "metadata": {},
   "outputs": [],
   "source": []
  }
 ],
 "metadata": {
  "kernelspec": {
   "display_name": "Python 3 (ipykernel)",
   "language": "python",
   "name": "python3"
  },
  "language_info": {
   "codemirror_mode": {
    "name": "ipython",
    "version": 3
   },
   "file_extension": ".py",
   "mimetype": "text/x-python",
   "name": "python",
   "nbconvert_exporter": "python",
   "pygments_lexer": "ipython3",
   "version": "3.9.6"
  }
 },
 "nbformat": 4,
 "nbformat_minor": 5
}
