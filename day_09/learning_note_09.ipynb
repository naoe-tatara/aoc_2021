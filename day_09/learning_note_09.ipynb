{
 "cells": [
  {
   "cell_type": "markdown",
   "metadata": {},
   "source": [
    "# Day 9\n",
    "\n",
    "## Problem 1\n",
    "\n",
    "In the hightmap, there are points which is lower than any adjacent location (up, down, left and right).\n",
    "Risk level of a low point is 1 plus its height.\n",
    "Find all the low points and get the sum of the risk levels of all low points on the heightmap. "
   ]
  },
  {
   "cell_type": "code",
   "execution_count": 1,
   "metadata": {},
   "outputs": [],
   "source": [
    "import numpy as np"
   ]
  },
  {
   "cell_type": "markdown",
   "metadata": {},
   "source": [
    "According to Marijn's code, it is possible to use \"converters\" to make a text into a list of characters!"
   ]
  },
  {
   "cell_type": "code",
   "execution_count": 34,
   "metadata": {},
   "outputs": [
    {
     "name": "stdout",
     "output_type": "stream",
     "text": [
      "[[2 1 9 9 9 4 3 2 1 0]\n",
      " [3 9 8 7 8 9 4 9 2 1]\n",
      " [9 8 5 6 7 8 9 8 9 2]\n",
      " [8 7 6 7 8 9 6 7 8 9]\n",
      " [9 8 9 9 9 6 5 6 7 8]]\n"
     ]
    }
   ],
   "source": [
    "heightmap = np.loadtxt('example.txt', converters={0:list}, encoding='utf-8', dtype='int')\n",
    "\"\"\"\n",
    "heightmap_in_num = np.loadtxt('example.txt', delimiter='/n', dtype='str')\n",
    "test = np.empty([len(heightmap_in_num),len(heightmap_in_num[0])])\n",
    "for line in range(0, len(heightmap_in_num)):\n",
    "    for char in range(0, len(heightmap_in_num[line])):\n",
    "        test[line][char] = heightmap_in_num[line][char]\n",
    "test = np.array(test, dtype='int')\n",
    "\"\"\"\n",
    "print(heightmap)"
   ]
  },
  {
   "cell_type": "code",
   "execution_count": 140,
   "metadata": {},
   "outputs": [
    {
     "name": "stdout",
     "output_type": "stream",
     "text": [
      "[['o', 'y', 's', 'o', 'l', 'k', 'o', 'o'], ['l', 'k', 'o', 'a', 's', 'w'], ['n', 't', 'e', 'a', 'w', 'k', 'y', 'a', 'o', 's', 'r', 'a', 'k', 'k']]\n"
     ]
    }
   ],
   "source": [
    "# how to map (BTW)\n",
    "def text_list2(text1, text2):\n",
    "\tcity = []\n",
    "\tfor i in range(len(text1)):\n",
    "\t\tcity.append(text1[i])\n",
    "\t\tcity.append(text2[i])\n",
    "\treturn(city)\n",
    "\n",
    "z = map(text_list2, ('oslo', 'los','newyork'), ('yokohama', 'kawasaki','takasaki'))\n",
    "print(list(z))"
   ]
  },
  {
   "cell_type": "markdown",
   "metadata": {},
   "source": [
    "Let's learn from Marijn's code (again, but it is super good resource to learn!!)"
   ]
  },
  {
   "cell_type": "code",
   "execution_count": 54,
   "metadata": {},
   "outputs": [
    {
     "name": "stdout",
     "output_type": "stream",
     "text": [
      "[[3 9 8 7 8 9 4 9 2 1]\n",
      " [9 8 5 6 7 8 9 8 9 2]\n",
      " [8 7 6 7 8 9 6 7 8 9]\n",
      " [9 8 9 9 9 6 5 6 7 8]]\n"
     ]
    }
   ],
   "source": [
    "print(heightmap[1:]) # from the 2nd (index = 1) row to the end"
   ]
  },
  {
   "cell_type": "code",
   "execution_count": 56,
   "metadata": {},
   "outputs": [
    {
     "name": "stdout",
     "output_type": "stream",
     "text": [
      "[[1 9 9 9 4 3 2 1 0]\n",
      " [9 8 7 8 9 4 9 2 1]\n",
      " [8 5 6 7 8 9 8 9 2]\n",
      " [7 6 7 8 9 6 7 8 9]\n",
      " [8 9 9 9 6 5 6 7 8]]\n"
     ]
    }
   ],
   "source": [
    "print(heightmap[:,1:]) # all the rows but from the 2nd colomn (index = 1) to the end"
   ]
  },
  {
   "cell_type": "markdown",
   "metadata": {},
   "source": [
    "`&=` -> store the result of AND logic."
   ]
  },
  {
   "cell_type": "code",
   "execution_count": 61,
   "metadata": {},
   "outputs": [
    {
     "name": "stdout",
     "output_type": "stream",
     "text": [
      "[1, 0, 3]\n"
     ]
    }
   ],
   "source": [
    "logic_result = [1,2,3]\n",
    "logic_input = [1,1,3]\n",
    "for i in range(0,3):\n",
    "    logic_result[i] &= logic_input[i]\n",
    "print(logic_result)"
   ]
  },
  {
   "cell_type": "code",
   "execution_count": 62,
   "metadata": {},
   "outputs": [
    {
     "name": "stdout",
     "output_type": "stream",
     "text": [
      "[1, 0, 1]\n"
     ]
    }
   ],
   "source": [
    "logic_input_1 = [1,2,3]\n",
    "logic_input_2 = [1,1,3]\n",
    "logic_result = [1,1,1]\n",
    "for i in range(0,3):\n",
    "    logic_result[i] &= logic_input_1[i] == logic_input_2[i]\n",
    "print(logic_result)"
   ]
  },
  {
   "cell_type": "code",
   "execution_count": 67,
   "metadata": {},
   "outputs": [
    {
     "name": "stdout",
     "output_type": "stream",
     "text": [
      "[[ True  True  True  True  True  True  True  True  True  True]\n",
      " [ True  True  True  True  True  True  True  True  True  True]\n",
      " [ True  True  True  True  True  True  True  True  True  True]\n",
      " [ True  True  True  True  True  True  True  True  True  True]\n",
      " [ True  True  True  True  True  True  True  True  True  True]]\n",
      "[[False  True False False False False False False False  True]\n",
      " [False False False False False False False False False False]\n",
      " [False False  True False False False False False False False]\n",
      " [False False False False False False False False False False]\n",
      " [False False False False False False  True False False False]]\n"
     ]
    }
   ],
   "source": [
    "low_position = np.ones_like(heightmap, dtype='bool')\n",
    "print(low_position)\n",
    "\n",
    "low_position[1:] &= (heightmap[1:]-heightmap[:-1]) < 0\n",
    "low_position[:-1] &= (heightmap[:-1]-heightmap[1:]) < 0\n",
    "low_position[:,1:] &= (heightmap[:,1:]-heightmap[:,:-1]) < 0\n",
    "low_position[:,:-1] &= (heightmap[:,:-1]-heightmap[:,1:]) < 0\n",
    "\n",
    "print(low_position)"
   ]
  },
  {
   "cell_type": "code",
   "execution_count": 72,
   "metadata": {},
   "outputs": [
    {
     "name": "stdout",
     "output_type": "stream",
     "text": [
      "[2 1 6 6]\n"
     ]
    }
   ],
   "source": [
    "# filtering by a boolean array (https://numpy.org/doc/stable/reference/arrays.indexing.html?highlight=filter#boolean-array-indexing)\n",
    "print(heightmap[low_position.nonzero()]+1)"
   ]
  },
  {
   "cell_type": "code",
   "execution_count": 75,
   "metadata": {},
   "outputs": [],
   "source": [
    "def low_pos_score(input):\n",
    "    heightmap = np.loadtxt(input, converters={0:list}, encoding='utf-8', dtype='int')\n",
    "    low_position = np.ones_like(heightmap, dtype='bool')\n",
    "\n",
    "    low_position[1:] &= (heightmap[1:]-heightmap[:-1]) < 0\n",
    "    low_position[:-1] &= (heightmap[:-1]-heightmap[1:]) < 0\n",
    "    low_position[:,1:] &= (heightmap[:,1:]-heightmap[:,:-1]) < 0\n",
    "    low_position[:,:-1] &= (heightmap[:,:-1]-heightmap[:,1:]) < 0\n",
    "\n",
    "    score_array = (heightmap[low_position.nonzero()]+1)\n",
    "    return(sum(score_array))\n",
    " "
   ]
  },
  {
   "cell_type": "code",
   "execution_count": 76,
   "metadata": {},
   "outputs": [
    {
     "data": {
      "text/plain": [
       "514"
      ]
     },
     "execution_count": 76,
     "metadata": {},
     "output_type": "execute_result"
    }
   ],
   "source": [
    "low_pos_score('input.txt')"
   ]
  },
  {
   "cell_type": "markdown",
   "metadata": {},
   "source": [
    "## Problem 2\n",
    "\n",
    "Find the 3 largest bensins and multiply sizes.\n",
    "\n",
    "\n",
    "Again, let's learn from Marijn's code (https://gist.github.com/wmvanvliet/129b8246b7e9236926862c1d6603b5b6)"
   ]
  },
  {
   "cell_type": "code",
   "execution_count": 85,
   "metadata": {},
   "outputs": [
    {
     "name": "stdout",
     "output_type": "stream",
     "text": [
      "heightmap: \n",
      " [[2 1 9 9 9 4 3 2 1 0]\n",
      " [3 9 8 7 8 9 4 9 2 1]\n",
      " [9 8 5 6 7 8 9 8 9 2]\n",
      " [8 7 6 7 8 9 6 7 8 9]\n",
      " [9 8 9 9 9 6 5 6 7 8]]\n",
      "map_height:  5\n",
      "map_width:  10\n"
     ]
    }
   ],
   "source": [
    "map_height, map_width = heightmap.shape # return the number or rows and columns\n",
    "print(\"heightmap: \\n\", heightmap)\n",
    "print(\"map_height: \", map_height)\n",
    "print(\"map_width: \", map_width)"
   ]
  },
  {
   "cell_type": "code",
   "execution_count": 86,
   "metadata": {},
   "outputs": [
    {
     "name": "stdout",
     "output_type": "stream",
     "text": [
      "[[False  True False False False False False False False  True]\n",
      " [False False False False False False False False False False]\n",
      " [False False  True False False False False False False False]\n",
      " [False False False False False False False False False False]\n",
      " [False False False False False False  True False False False]]\n"
     ]
    }
   ],
   "source": [
    "print(low_position)"
   ]
  },
  {
   "cell_type": "code",
   "execution_count": 100,
   "metadata": {},
   "outputs": [
    {
     "name": "stdout",
     "output_type": "stream",
     "text": [
      "seeds with output specified: \n",
      " [[0 2 0 0 0 0 0 0 0 2]\n",
      " [0 0 0 0 0 0 0 0 0 0]\n",
      " [0 0 2 0 0 0 0 0 0 0]\n",
      " [0 0 0 0 0 0 0 0 0 0]\n",
      " [0 0 0 0 0 0 2 0 0 0]]\n",
      "seeds output NOT specified, resulting in arrays: (array([0, 0, 2, 4]), array([1, 9, 2, 6]))\n",
      "zip seeds:  <zip object at 0x1100a0b80>\n",
      "list zip seeds:  [(array([0, 0, 2, 4]),), (array([1, 9, 2, 6]),)]\n",
      "list unzip seeds:  [(0, 1), (0, 9), (2, 2), (4, 6)]\n",
      "[('t', 'o'), ('o', 's'), ('k', 'a'), ('y', 'k'), ('o', 'a')]\n"
     ]
    }
   ],
   "source": [
    "seeds = np.where(low_position,2,0)\n",
    "print(\"seeds with output specified: \\n\", seeds)\n",
    "\n",
    "seeds = np.where(low_position)\n",
    "# When only condition is provided, this function is a shorthand for np.asarray(condition).nonzero(). \n",
    "# zip() in conjunction with the * operator can be used to unzip a list:\n",
    "print(\"seeds output NOT specified, resulting in arrays:\", seeds)\n",
    "seeds = zip(np.where(low_position))\n",
    "print(\"zip seeds: \", seeds)\n",
    "seeds = list(zip(np.where(low_position))) # \n",
    "print(\"list zip seeds: \", seeds)\n",
    "seeds = list(zip(*np.where(low_position)))\n",
    "print(\"list unzip seeds: \", seeds)\n",
    "print(list(zip(*citylist)))\n",
    "\n"
   ]
  },
  {
   "cell_type": "code",
   "execution_count": 147,
   "metadata": {},
   "outputs": [
    {
     "name": "stdout",
     "output_type": "stream",
     "text": [
      "element in seeds is in the form of tuple [(0, 1)]\n",
      "(0, 1)\n",
      "element in seeds is in the form of tuple [(0, 9)]\n",
      "(0, 9)\n",
      "element in seeds is in the form of tuple [(2, 2)]\n",
      "(2, 2)\n",
      "element in seeds is in the form of tuple [(4, 6)]\n",
      "(4, 6)\n",
      "1\n"
     ]
    }
   ],
   "source": [
    "basins = list() # prepare an empty list to store basins\n",
    "basin = set()  # A set object is an unordered collection of distinct hashable objects. \n",
    "\n",
    "from collections import deque, Counter, defaultdict # deque: Returns a new deque object initialized left-to-right (using append()) with data from iterable. \n",
    "\n",
    "for seed in seeds:\n",
    "    print(\"element in seeds is in the form of tuple\",[seed])\n",
    "    to_check = deque([seed])\n",
    "    print(to_check.popleft())\n",
    "\n",
    "print(heightmap[(0,1)]) # it is possible to surround index by ()\n"
   ]
  },
  {
   "cell_type": "markdown",
   "metadata": {},
   "source": [
    "Deque:\n",
    "\n",
    "https://qiita.com/ryosuke0825/items/bbc5c0673e6c6c958d66\n",
    "\n",
    "it seems that it is much faster to compute using deque. "
   ]
  },
  {
   "cell_type": "code",
   "execution_count": 127,
   "metadata": {},
   "outputs": [
    {
     "name": "stdout",
     "output_type": "stream",
     "text": [
      "point is  1 while_i_list is now  deque([2, 3, 4, 5])\n",
      "while_basin is  {1}\n",
      "while_j is  1\n",
      "point is  2 while_i_list is now  deque([3, 4, 5])\n",
      "point is 2 and thus continue to the next round\n",
      "point is  3 while_i_list is now  deque([4, 5])\n",
      "while_basin is  {1, 3}\n",
      "while_j is  2\n",
      "point is  4 while_i_list is now  deque([5])\n",
      "while_basin is  {1, 3, 4}\n",
      "while_j is  3\n"
     ]
    }
   ],
   "source": [
    "# understand how \"continue\" works in \"while\"-loop\n",
    "while_i_list = deque([1,2,3,4,5])\n",
    "while_j = 0\n",
    "while_basin = set()\n",
    "\n",
    "while len(while_i_list)>0 and while_j < 3:\n",
    "    point = while_i_list.popleft() # the most left element of while_i_list is assigned as \"point\", and \"while_i_list\" is now the rest (after removing the most left element).\n",
    "    print(\"point is \", point, \"while_i_list is now \", while_i_list)\n",
    "    if point == 2:\n",
    "        print(\"point is 2 and thus continue to the next round\")\n",
    "        continue # means that the process below this is not done, but goes to the next round.\n",
    "    while_basin.add(point)\n",
    "    print(\"while_basin is \",while_basin)\n",
    "    while_j += 1\n",
    "    print(\"while_j is \", while_j) # when while_j is 3, no more round is to run.\n"
   ]
  },
  {
   "cell_type": "code",
   "execution_count": 150,
   "metadata": {},
   "outputs": [
    {
     "name": "stdout",
     "output_type": "stream",
     "text": [
      "basins: [{(0, 1), (1, 0), (0, 0)}, {(0, 7), (1, 8), (0, 9), (0, 6), (2, 9), (0, 5), (1, 6), (0, 8), (1, 9)}, {(2, 4), (1, 2), (2, 1), (3, 4), (4, 1), (3, 1), (1, 4), (3, 0), (2, 3), (3, 3), (2, 2), (3, 2), (2, 5), (1, 3)}, {(3, 8), (2, 7), (4, 9), (3, 7), (4, 6), (4, 5), (4, 8), (3, 6), (4, 7)}]\n",
      "Day 9, part2: 1134\n"
     ]
    }
   ],
   "source": [
    "for seed in seeds:\n",
    "    basin = set()\n",
    "    to_check = deque([seed]) # set does not have order of the elements, so here it uses \"deque\"\n",
    "    i = 0\n",
    "    # print(\"--- now seed is\", seed)\n",
    "    while len(to_check) > 0 and i < 100000:\n",
    "        point = to_check.popleft()\n",
    "        # print(\"point now is \", point)\n",
    "        if heightmap[point] == 9:\n",
    "            # print(\"the point height is 9\")\n",
    "            continue\n",
    "\n",
    "        basin.add(point)\n",
    "        # print(\"basin now is \", basin)\n",
    "        row, col = point\n",
    "        neighbours = set()\n",
    "        if row > 0:\n",
    "            neighbours.add((row - 1, col))\n",
    "        if row < map_height - 1:\n",
    "            neighbours.add((row + 1, col))\n",
    "        if col > 0:\n",
    "            neighbours.add((row, col - 1))\n",
    "        if col < map_width - 1:\n",
    "            neighbours.add((row, col + 1))\n",
    "        # print(\"neighbours now is \", neighbours)\n",
    "        to_check.extend(neighbours - basin)\n",
    "        # print(\"to_check now is \", to_check)\n",
    "        i += 1\n",
    "    basins.append(basin)\n",
    "    # print(\"---------- basins now is \", basins)\n",
    "\n",
    "# basins = list() # to reset it\n",
    "print(\"basins:\", basins)\n",
    "print('Day 9, part2:', np.product(sorted([len(b) for b in basins])[-3:]))"
   ]
  },
  {
   "cell_type": "markdown",
   "metadata": {},
   "source": [
    "This problem is a really difficult one.\n",
    "I did not notice (or just did not read the instruction carefully), but it seems all the basins are surrounded by \"9\".\n",
    "\n",
    "Still, it seems that the code above checks again and again the same point that is found to be 9 whenever it is considered as a neighbor. \n",
    "isn't it possible to avoid checking everytime a point is 9 or not? Isn't it possible to check (i, j) according to its \"previous\" neighbors, such as (i-1, j) and (i, j-1)?\n",
    "\n",
    "\n",
    "\n"
   ]
  },
  {
   "cell_type": "code",
   "execution_count": 144,
   "metadata": {},
   "outputs": [
    {
     "name": "stdout",
     "output_type": "stream",
     "text": [
      "fyevhrujyv\n",
      "defaultdict(<function <lambda> at 0x1115361f0>, {'f': 10, 'y': 11, 'e': 10, 'v': 11, 'h': 10, 'r': 10, 'u': 10, 'j': 10})\n"
     ]
    }
   ],
   "source": [
    "# learning about how \"defaultdict\" works\n",
    "from collections import defaultdict\n",
    "import random\n",
    "import string\n",
    "n = 10\n",
    "val_str = ''.join([random.choice(string.ascii_lowercase) for i in range(n)])\n",
    "print(val_str)\n",
    "\n",
    "d = defaultdict(lambda:9)\n",
    "for key in val_str:\n",
    "    d[key] += 1\n",
    "\n",
    "print(d)\n"
   ]
  },
  {
   "cell_type": "code",
   "execution_count": 151,
   "metadata": {},
   "outputs": [
    {
     "name": "stdout",
     "output_type": "stream",
     "text": [
      "[[0 0 0 0 0 0 0 0 0 0]\n",
      " [0 0 0 0 0 0 0 0 0 0]\n",
      " [0 0 0 0 0 0 0 0 0 0]\n",
      " [0 0 0 0 0 0 0 0 0 0]\n",
      " [0 0 0 0 0 0 0 0 0 0]]\n"
     ]
    }
   ],
   "source": [
    "basin_id_array = np.zeros_like(heightmap)\n",
    "print(basin_id_array)"
   ]
  },
  {
   "cell_type": "code",
   "execution_count": 225,
   "metadata": {},
   "outputs": [
    {
     "name": "stdout",
     "output_type": "stream",
     "text": [
      "[0, 1, 2, 3, 4, 5, 0]\n"
     ]
    }
   ],
   "source": [
    "list_test = [0,1,2,3,4,5]\n",
    "list_test.append(0)\n",
    "# list_test[1]=2\n",
    "# list_test.pop(-1)\n",
    "print(list_test)"
   ]
  },
  {
   "cell_type": "code",
   "execution_count": 250,
   "metadata": {},
   "outputs": [
    {
     "name": "stdout",
     "output_type": "stream",
     "text": [
      "[[2 1 9 9 9 4 3 2 1 0]\n",
      " [3 9 8 7 8 9 4 9 2 1]\n",
      " [9 8 5 6 7 8 9 8 9 2]\n",
      " [8 7 6 7 8 9 6 7 8 9]\n",
      " [9 8 9 9 9 6 5 6 7 8]]\n",
      "[[ 2  1 11 11 11  4  3  2  1  0]\n",
      " [ 3 11  8  7  8 11  4 11  2  1]\n",
      " [11  8  5  6  7  8 11  8 11  2]\n",
      " [ 8  7  6  7  8 11  6  7  8 11]\n",
      " [11  8 11 11 11  6  5  6  7  8]]\n",
      "[ 0  1  2  3  4  5  6  7  8 11]\n",
      "[ 1  3  4  2  2  2  5  6 10 15]\n"
     ]
    }
   ],
   "source": [
    "heightmap_example = np.loadtxt(\"example.txt\", converters={0:list}, encoding='utf-8', dtype='int')\n",
    "print(heightmap_example)\n",
    "heightmap_example[heightmap_example==heightmap_example[0,2]] = 11\n",
    "print(heightmap_example)\n",
    "unique_values, occurrence_count = np.unique(heightmap_example, return_counts=True) \n",
    "print(unique_values)\n",
    "print(occurrence_count)   "
   ]
  },
  {
   "cell_type": "code",
   "execution_count": 231,
   "metadata": {},
   "outputs": [
    {
     "name": "stdout",
     "output_type": "stream",
     "text": [
      "heightmap[i,j] is  9\n",
      "heightmap[i,j] is  9\n",
      "heightmap[i,j] is  9\n",
      "heightmap[i,j] is  9\n",
      "heightmap[i,j] is  9\n",
      "heightmap[i,j] is  9\n",
      "heightmap[i,j] is  9\n",
      "heightmap[i,j] is  9\n",
      "heightmap[i,j] is  9\n",
      "heightmap[i,j] is  9\n",
      "end of row  5\n",
      "[[1 1 0 0 0 2 2 2 2 2]\n",
      " [1 0 3 3 3 0 2 0 2 2]\n",
      " [0 3 3 3 3 3 0 4 0 2]\n",
      " [3 3 3 3 3 0 4 4 4 0]\n",
      " [0 3 0 0 0 4 4 4 4 4]]\n",
      "basin_id_total:  [0, 3, 9, 14, 9]\n",
      "part 2: 1134\n"
     ]
    }
   ],
   "source": [
    "heightmap = np.loadtxt(\"example.txt\", converters={0:list}, encoding='utf-8', dtype='int')\n",
    "basin_id_array = np.zeros_like(heightmap)\n",
    "basin_id = 0\n",
    "# the first row, first column\n",
    "i = 0\n",
    "j = 0\n",
    "basin_id_total = [0]\n",
    "\n",
    "if heightmap[i,j] != 9:\n",
    "    basin_id += 1\n",
    "    basin_id_array[i,j] = basin_id\n",
    "    basin_id_total.append(1)\n",
    "\n",
    "# the first row, second to last column\n",
    "for j in range(1,len(heightmap[0])):\n",
    "    if heightmap[0,j] != 9:\n",
    "        if heightmap[0,j-1] == 9:\n",
    "            basin_id += 1\n",
    "            basin_id_total.append(0)\n",
    "        basin_id_array[0,j] = basin_id\n",
    "        basin_id_total[basin_id] += 1\n",
    "\n",
    "# the rest\n",
    "for i in range(1,len(heightmap)):\n",
    "    # first column\n",
    "    j = 0\n",
    "    if heightmap[i,j] != 9:\n",
    "        if heightmap[i-1,j] != 9:\n",
    "            basin_id_array[i,j] = basin_id_array[i-1,j]\n",
    "            basin_id_total[basin_id_array[i,j]] += 1\n",
    "        else:\n",
    "            basin_id += 1\n",
    "            basin_id_array[i,j] = basin_id\n",
    "            basin_id_total.append(1)\n",
    "    # second to the last column\n",
    "    for j in range(1,len(heightmap[0])):\n",
    "        if heightmap[i,j] != 9: \n",
    "            if heightmap[i-1,j] !=9 and heightmap[i,j-1]!=9:\n",
    "                basin_id_array[i,j] = basin_id_array[i-1,j]\n",
    "                if basin_id_array[i,j-1] > basin_id_array[i,j]:\n",
    "                    basin_id_array[i,j-1] = basin_id_array[i-1,j]\n",
    "                    basin_id -= 1\n",
    "                    basin_id_total.pop(-1)\n",
    "                    basin_id_total[basin_id_array[i,j-1]] +=1\n",
    "            elif heightmap[i-1,j] !=9 and heightmap[i,j-1]==9:\n",
    "                basin_id_array[i,j] = basin_id_array[i-1,j]\n",
    "            elif heightmap[i-1,j] ==9 and heightmap[i,j-1]!=9:\n",
    "                basin_id_array[i,j] = basin_id_array[i,j-1]\n",
    "            elif heightmap[i-1,j] ==9 and heightmap[i,j-1]==9:\n",
    "                basin_id += 1\n",
    "                basin_id_array[i,j] = basin_id\n",
    "                basin_id_total.append(0)\n",
    "            basin_id_total[basin_id_array[i,j]] += 1\n",
    "        else:\n",
    "            print(\"heightmap[i,j] is \",heightmap[i,j])\n",
    "print(\"end of row \", i+1)\n",
    "print(basin_id_array)\n",
    "print(\"basin_id_total: \", basin_id_total)\n",
    "\n",
    "basin_id_total.sort(reverse= True)\n",
    "product = basin_id_total[0]*basin_id_total[1]*basin_id_total[2]\n",
    "print(\"part 2:\", product)\n",
    "#*basin_id_total_sorted[1]*basin_id_total_sorted[2])\n"
   ]
  },
  {
   "cell_type": "markdown",
   "metadata": {},
   "source": [
    "OK, it seems it is working. (well, afterward, I found that it actually did not work in the real input file and changed to make it work no matter what the above and left spots are)"
   ]
  },
  {
   "cell_type": "code",
   "execution_count": 221,
   "metadata": {},
   "outputs": [
    {
     "data": {
      "text/plain": [
       "(100, 100)"
      ]
     },
     "execution_count": 221,
     "metadata": {},
     "output_type": "execute_result"
    }
   ],
   "source": [
    "heightmap = np.loadtxt(\"input.txt\", converters={0:list}, encoding='utf-8', dtype='int')\n",
    "basin_id_array = np.zeros_like(heightmap)\n",
    "basin_id_array.shape\n"
   ]
  },
  {
   "cell_type": "code",
   "execution_count": 331,
   "metadata": {},
   "outputs": [],
   "source": [
    "def three_largest_basins(input):\n",
    "    heightmap = np.loadtxt(input, converters={0:list}, encoding='utf-8', dtype='int')\n",
    "    basin_id_array = np.zeros_like(heightmap)\n",
    "    basin_id = 0\n",
    "\n",
    "    if heightmap[0,0] != 9:\n",
    "        basin_id += 1\n",
    "        basin_id_array[0,0] = basin_id\n",
    "\n",
    "    # the first row, second to last column\n",
    "    for j in range(1,len(heightmap[0])):\n",
    "        if heightmap[0,j] != 9:\n",
    "            if heightmap[0,j-1] == 9:\n",
    "                basin_id += 1\n",
    "            basin_id_array[0,j] = basin_id\n",
    "\n",
    "    # the rest\n",
    "    for i in range(1,len(heightmap)):\n",
    "        # first column\n",
    "        j = 0\n",
    "        if heightmap[i,j] != 9:\n",
    "            if heightmap[i-1,j] != 9:\n",
    "                basin_id_array[i,j] = basin_id_array[i-1,j]\n",
    "            else:\n",
    "                basin_id += 1\n",
    "                basin_id_array[i,j] = basin_id\n",
    "        # second to the last column\n",
    "        for j in range(1,len(heightmap[0])):\n",
    "            if heightmap[i,j] != 9: \n",
    "                if heightmap[i-1,j] !=9 and heightmap[i,j-1]!=9: # above point's basin id could be both lower or higher than the left point.\n",
    "                    if basin_id_array[i,j-1] > basin_id_array[i,j]:\n",
    "                        basin_id_array[i,j] = basin_id_array[i-1,j]\n",
    "                        basin_id_array[basin_id_array==basin_id_array[i,j-1]] = basin_id_array[i,j]\n",
    "                    elif basin_id_array[i,j-1] < basin_id_array[i,j]:\n",
    "                        basin_id_array[i,j] = basin_id_array[i,j-1]\n",
    "                        basin_id_array[basin_id_array==basin_id_array[i-1,j]] = basin_id_array[i-1,j]\n",
    "                    else:\n",
    "                        basin_id_array[i,j] = basin_id_array[i,j-1]\n",
    "                elif heightmap[i-1,j] !=9 and heightmap[i,j-1]==9:\n",
    "                    basin_id_array[i,j] = basin_id_array[i-1,j]\n",
    "                elif heightmap[i-1,j] ==9 and heightmap[i,j-1]!=9:\n",
    "                    basin_id_array[i,j] = basin_id_array[i,j-1]\n",
    "                elif heightmap[i-1,j] ==9 and heightmap[i,j-1]==9:\n",
    "                    basin_id += 1\n",
    "                    basin_id_array[i,j] = basin_id\n",
    "    unique_ids, id_count = np.unique(basin_id_array, return_counts=True)\n",
    "\n",
    "    id_count_from_one = id_count[1:]\n",
    "    sorted_id_count = np.sort(id_count_from_one)[-3:]\n",
    "    product = np.prod(sorted_id_count)\n",
    "    # print(product)"
   ]
  },
  {
   "cell_type": "code",
   "execution_count": 332,
   "metadata": {},
   "outputs": [],
   "source": [
    "three_largest_basins(\"input.txt\")"
   ]
  },
  {
   "cell_type": "code",
   "execution_count": 322,
   "metadata": {},
   "outputs": [],
   "source": [
    "def marijn_day_nine(input):\n",
    "    heightmap = np.loadtxt(input, encoding='utf8', converters={0: list}, dtype='int')\n",
    "    is_lowpoint = np.ones_like(heightmap, dtype='bool')\n",
    "    is_lowpoint[1:] &= (heightmap[:-1] - heightmap[1:]) > 0\n",
    "    is_lowpoint[:-1] &= (heightmap[1:] - heightmap[:-1]) > 0\n",
    "    is_lowpoint[:, 1:] &= (heightmap[:, :-1] - heightmap[:, 1:]) > 0\n",
    "    is_lowpoint[:, :-1] &= (heightmap[:, 1:] - heightmap[:, :-1]) > 0\n",
    "    # print('Day 9, part 1:', np.sum(1 + heightmap[is_lowpoint]))\n",
    "\n",
    "    map_height, map_width = heightmap.shape\n",
    "    seeds = list(zip(*np.where(is_lowpoint)))\n",
    "    basins = list()\n",
    "\n",
    "    for seed in seeds:\n",
    "        basin = set()\n",
    "        to_check = deque([seed])\n",
    "        i = 0\n",
    "        while len(to_check) > 0 and i < 100000:\n",
    "            point = to_check.popleft()\n",
    "            if heightmap[point] == 9:\n",
    "                continue\n",
    "\n",
    "            basin.add(point)\n",
    "            row, col = point\n",
    "            neighbours = set()\n",
    "            if row > 0:\n",
    "                neighbours.add((row - 1, col))\n",
    "            if row < map_height - 1:\n",
    "                neighbours.add((row + 1, col))\n",
    "            if col > 0:\n",
    "                neighbours.add((row, col - 1))\n",
    "            if col < map_width - 1:\n",
    "                neighbours.add((row, col + 1))\n",
    "            to_check.extend(neighbours - basin)\n",
    "            i += 1\n",
    "        basins.append(basin)\n",
    "    # print('Day 9, part2:', np.product(sorted([len(b) for b in basins])[-3:]))"
   ]
  },
  {
   "cell_type": "code",
   "execution_count": 323,
   "metadata": {},
   "outputs": [
    {
     "name": "stdout",
     "output_type": "stream",
     "text": [
      "102 ms ± 190 µs per loop (mean ± std. dev. of 7 runs, 10 loops each)\n"
     ]
    }
   ],
   "source": [
    "%%timeit\n",
    "marijn_day_nine(\"input.txt\")"
   ]
  },
  {
   "cell_type": "code",
   "execution_count": 326,
   "metadata": {},
   "outputs": [],
   "source": [
    "# Radovan's solution\n",
    "def radovan_day_nine(input):\n",
    "    from collections import defaultdict\n",
    "\n",
    "\n",
    "    def neighbors(position):\n",
    "        i, j = position\n",
    "        return [(i + 1, j), (i - 1, j), (i, j + 1), (i, j - 1)]\n",
    "\n",
    "\n",
    "    def read_map(file_name):\n",
    "        lines = open(file_name, \"r\").read().splitlines()\n",
    "\n",
    "        # can be any number higher than 8\n",
    "        heightmap = defaultdict(lambda: 9)\n",
    "\n",
    "        for i, line in enumerate(lines):\n",
    "            for j, c in enumerate(line):\n",
    "                heightmap[(i, j)] = int(c)\n",
    "\n",
    "        return heightmap\n",
    "\n",
    "\n",
    "    def find_local_minima(heightmap):\n",
    "        local_minima = []\n",
    "        for (k, v) in list(heightmap.items()):\n",
    "            if all([v < heightmap[n] for n in neighbors(k)]):\n",
    "                local_minima.append(k)\n",
    "        return local_minima\n",
    "\n",
    "\n",
    "    def num_neighbors_below_9(position, heightmap):\n",
    "        # we turn current position to 9 to make sure the recursion does not visit\n",
    "        # this position again\n",
    "        n = 1\n",
    "        heightmap[position] = 9\n",
    "        for neighbor in neighbors(position):\n",
    "            if heightmap[neighbor] < 9:\n",
    "                n += num_neighbors_below_9(neighbor, heightmap)\n",
    "        return n\n",
    "\n",
    "\n",
    "    # if __name__ == \"__main__\":\n",
    "    # when uncomment above, tab the below\n",
    "    heightmap = read_map(\"input.txt\")\n",
    "\n",
    "    local_minima = find_local_minima(heightmap)\n",
    "\n",
    "    # print(\"part 1:\", sum([heightmap[k] + 1 for k in local_minima]))\n",
    "\n",
    "    basin_sizes = map(lambda p: num_neighbors_below_9(p, heightmap), local_minima)\n",
    "    a, b, c, *_ = list(sorted(basin_sizes, reverse=True))\n",
    "\n",
    "# print(\"part 2:\", a * b * c)"
   ]
  },
  {
   "cell_type": "code",
   "execution_count": 333,
   "metadata": {},
   "outputs": [
    {
     "name": "stdout",
     "output_type": "stream",
     "text": [
      "37.5 ms ± 105 µs per loop (mean ± std. dev. of 7 runs, 10 loops each)\n"
     ]
    }
   ],
   "source": [
    "%%timeit\n",
    "three_largest_basins(\"input.txt\")"
   ]
  },
  {
   "cell_type": "code",
   "execution_count": 329,
   "metadata": {},
   "outputs": [
    {
     "name": "stdout",
     "output_type": "stream",
     "text": [
      "103 ms ± 1.32 ms per loop (mean ± std. dev. of 7 runs, 10 loops each)\n"
     ]
    }
   ],
   "source": [
    "%%timeit\n",
    "marijn_day_nine(\"input.txt\")"
   ]
  },
  {
   "cell_type": "code",
   "execution_count": 330,
   "metadata": {},
   "outputs": [
    {
     "name": "stdout",
     "output_type": "stream",
     "text": [
      "13.9 ms ± 189 µs per loop (mean ± std. dev. of 7 runs, 100 loops each)\n"
     ]
    }
   ],
   "source": [
    "%%timeit\n",
    "radovan_day_nine(\"input.txt\")"
   ]
  }
 ],
 "metadata": {
  "interpreter": {
   "hash": "c1f7c2123e7621d8dbab57e8bdc76c1e60d41c4219f77a2d0fe8616decb9bd7f"
  },
  "kernelspec": {
   "display_name": "Python 3.9.6 64-bit ('coderefinery': conda)",
   "name": "python3"
  },
  "language_info": {
   "codemirror_mode": {
    "name": "ipython",
    "version": 3
   },
   "file_extension": ".py",
   "mimetype": "text/x-python",
   "name": "python",
   "nbconvert_exporter": "python",
   "pygments_lexer": "ipython3",
   "version": "3.9.6"
  },
  "orig_nbformat": 4
 },
 "nbformat": 4,
 "nbformat_minor": 2
}