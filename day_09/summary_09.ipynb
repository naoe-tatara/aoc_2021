{
 "cells": [
  {
   "cell_type": "markdown",
   "metadata": {},
   "source": [
    "# Summary of Day 9\n",
    "\n",
    "https://adventofcode.com/2021/day/9\n",
    "\n",
    "## Problem 1\n",
    "(only learned from Marijn's code at https://gist.github.com/wmvanvliet/129b8246b7e9236926862c1d6603b5b6)\n",
    "\n",
    "## Problem 2\n",
    "Tried my own solution.\n",
    "\n",
    "1. starting from [0,0], going to next column on the row[0], if it is NOT 9, then it is a part of basin, and if the one left is NOT 9 either, then it belongs to the same basin as the one left. for each separate basin, assign a basin_id.\n",
    "2. from the row[1] and below, compare the spot with the one above, and from column[1], one left in addition, namely those which were already assigned a basin_id or considered as not a part of any basin (or the height is 9). if the spot is NOT 9, then depending on the combination of the condition of the spots above and the left, either/both is 9 or NOT 9, apply different operation:\n",
    "    - if either is 9, then the spot belongs to the one that is NOT 9\n",
    "    - if both are 9, then the spot is temporarily given a new basin_id\n",
    "    - if neither is 9,\n",
    "        - and both have the same basin_id, then the spot belongs to the same basin_id with them;\n",
    "        - if they have different basin_id, they (all three spots) should belong to the same basin, which is the lower basin_id. The spots that were assigned to the higher basin_id so far are all converted to the lower basin_id."
   ]
  },
  {
   "cell_type": "code",
   "execution_count": 1,
   "metadata": {},
   "outputs": [],
   "source": [
    "import numpy as np\n",
    "\n",
    "def three_largest_basins(input):\n",
    "    heightmap = np.loadtxt(input, converters={0:list}, encoding='utf-8', dtype='int')\n",
    "    basin_id_array = np.zeros_like(heightmap)\n",
    "    basin_id = 0\n",
    "\n",
    "    if heightmap[0,0] != 9:\n",
    "        basin_id += 1\n",
    "        basin_id_array[0,0] = basin_id\n",
    "\n",
    "    # the first row, second to last column\n",
    "    for j in range(1,len(heightmap[0])):\n",
    "        if heightmap[0,j] != 9:\n",
    "            if heightmap[0,j-1] == 9:\n",
    "                basin_id += 1\n",
    "            basin_id_array[0,j] = basin_id\n",
    "\n",
    "    # the rest\n",
    "    for i in range(1,len(heightmap)):\n",
    "        # first column\n",
    "        j = 0\n",
    "        if heightmap[i,j] != 9:\n",
    "            if heightmap[i-1,j] != 9:\n",
    "                basin_id_array[i,j] = basin_id_array[i-1,j]\n",
    "            else:\n",
    "                basin_id += 1\n",
    "                basin_id_array[i,j] = basin_id\n",
    "        # second to the last column\n",
    "        for j in range(1,len(heightmap[0])):\n",
    "            if heightmap[i,j] != 9: \n",
    "                if heightmap[i-1,j] !=9 and heightmap[i,j-1]!=9: # above point's basin id could be both lower or higher than the left point.\n",
    "                    if basin_id_array[i,j-1] > basin_id_array[i,j]:\n",
    "                        basin_id_array[i,j] = basin_id_array[i-1,j]\n",
    "                        basin_id_array[basin_id_array==basin_id_array[i,j-1]] = basin_id_array[i,j]\n",
    "                    elif basin_id_array[i,j-1] < basin_id_array[i,j]:\n",
    "                        basin_id_array[i,j] = basin_id_array[i,j-1]\n",
    "                        basin_id_array[basin_id_array==basin_id_array[i-1,j]] = basin_id_array[i-1,j]\n",
    "                    else:\n",
    "                        basin_id_array[i,j] = basin_id_array[i,j-1]\n",
    "                elif heightmap[i-1,j] !=9 and heightmap[i,j-1]==9:\n",
    "                    basin_id_array[i,j] = basin_id_array[i-1,j]\n",
    "                elif heightmap[i-1,j] ==9 and heightmap[i,j-1]!=9:\n",
    "                    basin_id_array[i,j] = basin_id_array[i,j-1]\n",
    "                elif heightmap[i-1,j] ==9 and heightmap[i,j-1]==9:\n",
    "                    basin_id += 1\n",
    "                    basin_id_array[i,j] = basin_id\n",
    "    unique_ids, id_count = np.unique(basin_id_array, return_counts=True)\n",
    "\n",
    "    id_count_from_one = id_count[1:]\n",
    "    sorted_id_count = np.sort(id_count_from_one)[-3:]\n",
    "    product = np.prod(sorted_id_count)\n",
    "    print(product)"
   ]
  },
  {
   "cell_type": "code",
   "execution_count": 2,
   "metadata": {},
   "outputs": [
    {
     "name": "stdout",
     "output_type": "stream",
     "text": [
      "1103130\n"
     ]
    }
   ],
   "source": [
    "three_largest_basins(\"input.txt\")"
   ]
  },
  {
   "cell_type": "code",
   "execution_count": null,
   "metadata": {},
   "outputs": [],
   "source": []
  }
 ],
 "metadata": {
  "interpreter": {
   "hash": "aee8b7b246df8f9039afb4144a1f6fd8d2ca17a180786b69acc140d282b71a49"
  },
  "kernelspec": {
   "display_name": "Python 3.10.1 64-bit",
   "name": "python3"
  },
  "language_info": {
   "codemirror_mode": {
    "name": "ipython",
    "version": 3
   },
   "file_extension": ".py",
   "mimetype": "text/x-python",
   "name": "python",
   "nbconvert_exporter": "python",
   "pygments_lexer": "ipython3",
   "version": "3.9.6"
  },
  "orig_nbformat": 4
 },
 "nbformat": 4,
 "nbformat_minor": 2
}